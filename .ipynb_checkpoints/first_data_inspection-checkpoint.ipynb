{
 "cells": [
  {
   "cell_type": "code",
   "execution_count": 15,
   "id": "352b2255-f876-4fb5-b50f-4be8bdfc7cd8",
   "metadata": {},
   "outputs": [],
   "source": [
    "import pandas as pd\n",
    "import glob\n",
    "import utils\n",
    "\n",
    "DATA = \"./csv/\""
   ]
  },
  {
   "cell_type": "code",
   "execution_count": 16,
   "id": "8ef6f527-7628-4f55-9c49-6a10f5d39943",
   "metadata": {},
   "outputs": [],
   "source": [
    "# ese *1.csv solo pilla los originales porque los tratados acaban en t.csv\n",
    "files = glob.glob(f\"{DATA}*1.csv\")"
   ]
  },
  {
   "cell_type": "code",
   "execution_count": 17,
   "id": "d2cfc31a-6464-4dcd-935a-18f319ed1f6e",
   "metadata": {},
   "outputs": [],
   "source": [
    "files.sort()"
   ]
  },
  {
   "cell_type": "code",
   "execution_count": 18,
   "id": "153f9c0d-8a95-47b2-80a5-4f018e64d959",
   "metadata": {},
   "outputs": [
    {
     "data": {
      "text/plain": [
       "['./csv/02_197706_1.csv',\n",
       " './csv/02_197903_1.csv',\n",
       " './csv/02_198210_1.csv',\n",
       " './csv/02_198606_1.csv',\n",
       " './csv/02_198910_1.csv',\n",
       " './csv/02_199306_1.csv',\n",
       " './csv/02_199603_1.csv',\n",
       " './csv/02_200003_1.csv',\n",
       " './csv/02_200403_1.csv',\n",
       " './csv/02_200803_1.csv',\n",
       " './csv/02_201111_1.csv',\n",
       " './csv/02_201512_1.csv',\n",
       " './csv/02_201606_1.csv',\n",
       " './csv/02_201904_1.csv',\n",
       " './csv/02_201911_1.csv']"
      ]
     },
     "execution_count": 18,
     "metadata": {},
     "output_type": "execute_result"
    }
   ],
   "source": [
    "files"
   ]
  },
  {
   "cell_type": "code",
   "execution_count": 19,
   "id": "35ec14e5-6730-4516-abf9-220223cea473",
   "metadata": {},
   "outputs": [],
   "source": [
    "for file in files:\n",
    "\n",
    "    test = pd.read_csv(file)\n",
    "\n",
    "    # normaliza nombres de municipio y provincia\n",
    "    test[\"Nombre de Municipio\"] = test[\"Nombre de Municipio\"].apply(utils.proper)\n",
    "    test[\"Nombre de Provincia\"] = test[\"Nombre de Provincia\"].apply(utils.proper)\n",
    "\n",
    "    # se queda solo con las siglas del partido (normalizado)\n",
    "    test.rename(columns={column: utils.acronym(column) for column in test.columns[13:]}, inplace=True)\n",
    "\n",
    "    # calcula el partido con mas votos, cuantos votos y lo guarda\n",
    "    utils.compute_popular(test).to_csv(f\"{file[:-4]}_treat.csv\")"
   ]
  },
  {
   "cell_type": "code",
   "execution_count": 6,
   "id": "5b42f233-35d1-468a-8cad-d32cfdecd0d9",
   "metadata": {},
   "outputs": [
    {
     "name": "stdout",
     "output_type": "stream",
     "text": [
      "<class 'pandas.core.frame.DataFrame'>\n",
      "RangeIndex: 8054 entries, 0 to 8053\n",
      "Data columns (total 55 columns):\n",
      " #   Column       Non-Null Count  Dtype\n",
      "---  ------       --------------  -----\n",
      " 0   UCD          8054 non-null   int64\n",
      " 1   PSOE         8054 non-null   int64\n",
      " 2   PCE          8054 non-null   int64\n",
      " 3   CD           8054 non-null   int64\n",
      " 4   CIU          8054 non-null   int64\n",
      " 5   UN           8054 non-null   int64\n",
      " 6   PSA-PA       8054 non-null   int64\n",
      " 7   PNV          8054 non-null   int64\n",
      " 8   PTE          8054 non-null   int64\n",
      " 9   HB           8054 non-null   int64\n",
      " 10  PSOE-H       8054 non-null   int64\n",
      " 11  ORT          8054 non-null   int64\n",
      " 12  ERFN         8054 non-null   int64\n",
      " 13  EE           8054 non-null   int64\n",
      " 14  MC-OIC       8054 non-null   int64\n",
      " 15  BNPG         8054 non-null   int64\n",
      " 16  C-UPC        8054 non-null   int64\n",
      " 17  PG-POG-PSG   8054 non-null   int64\n",
      " 18  IR           8054 non-null   int64\n",
      " 19  BEAN         8054 non-null   int64\n",
      " 20  PCARL        8054 non-null   int64\n",
      " 21  PCT          8054 non-null   int64\n",
      " 22  LCR          8054 non-null   int64\n",
      " 23  PAR          8054 non-null   int64\n",
      " 24  UFV          8054 non-null   int64\n",
      " 25  FJONSA       8054 non-null   int64\n",
      " 26  UPN          8054 non-null   int64\n",
      " 27  OCE-BR       8054 non-null   int64\n",
      " 28  UCE          8054 non-null   int64\n",
      " 29  PSAR - PSDA  8054 non-null   int64\n",
      " 30  PLIB         8054 non-null   int64\n",
      " 31  URV          8054 non-null   int64\n",
      " 32  PNPV         8054 non-null   int64\n",
      " 33  UNAI         8054 non-null   int64\n",
      " 34  PRE          8054 non-null   int64\n",
      " 35  PDPCAN       8054 non-null   int64\n",
      " 36  SMIM         8054 non-null   int64\n",
      " 37  PSIN         8054 non-null   int64\n",
      " 38  ULE          8054 non-null   int64\n",
      " 39  E CATALA     8054 non-null   int64\n",
      " 40  PANCAL       8054 non-null   int64\n",
      " 41  CIC          8054 non-null   int64\n",
      " 42  P-CANT       8054 non-null   int64\n",
      " 43  DSCC         8054 non-null   int64\n",
      " 44  PPROV        8054 non-null   int64\n",
      " 45  ARDE         8054 non-null   int64\n",
      " 46  LC           8054 non-null   int64\n",
      " 47  OCEBR-UCE    8054 non-null   int64\n",
      " 48  CNA          8054 non-null   int64\n",
      " 49  PIPPA        8054 non-null   int64\n",
      " 50  FEA          8054 non-null   int64\n",
      " 51  POC          8054 non-null   int64\n",
      " 52  CIME         8054 non-null   int64\n",
      " 53  FE-UF        8054 non-null   int64\n",
      " 54  UF-FI-AT     8054 non-null   int64\n",
      "dtypes: int64(55)\n",
      "memory usage: 3.4 MB\n"
     ]
    }
   ],
   "source": [
    "# test.drop(columns=test.columns[:13]).info()\n",
    "# test.columns[:13] common vote, town info. Dropping this gives list of political parties"
   ]
  },
  {
   "cell_type": "code",
   "execution_count": null,
   "id": "9e739e24-d981-4ce4-b0c6-6ed5b9706fda",
   "metadata": {},
   "outputs": [],
   "source": []
  }
 ],
 "metadata": {
  "kernelspec": {
   "display_name": "Python 3 (ipykernel)",
   "language": "python",
   "name": "python3"
  },
  "language_info": {
   "codemirror_mode": {
    "name": "ipython",
    "version": 3
   },
   "file_extension": ".py",
   "mimetype": "text/x-python",
   "name": "python",
   "nbconvert_exporter": "python",
   "pygments_lexer": "ipython3",
   "version": "3.10.2"
  }
 },
 "nbformat": 4,
 "nbformat_minor": 5
}
