{
 "cells": [
  {
   "cell_type": "markdown",
   "id": "d590fce8",
   "metadata": {},
   "source": [
    "# Final Project"
   ]
  },
  {
   "cell_type": "markdown",
   "id": "dfd646b2",
   "metadata": {},
   "source": [
    "### Files and imports "
   ]
  },
  {
   "cell_type": "code",
   "execution_count": 1,
   "id": "cd83ca14",
   "metadata": {},
   "outputs": [],
   "source": [
    "import pandas as pd\n",
    "import glob\n",
    "import utils\n",
    "import numpy as np\n",
    "import matplotlib.pyplot as plt\n",
    "import seaborn as sns\n",
    "import math\n",
    "\n",
    "import shap\n",
    "from sklearn.model_selection import train_test_split\n",
    "from sklearn.linear_model import LinearRegression\n",
    "from sklearn.metrics import mean_squared_error\n",
    "from sklearn import tree\n",
    "from sklearn.ensemble import RandomForestRegressor\n",
    "from sklearn.neural_network import MLPRegressor\n",
    "\n",
    "DATA = \"./csv/\""
   ]
  },
  {
   "cell_type": "code",
   "execution_count": 2,
   "id": "5f7e66b9",
   "metadata": {},
   "outputs": [],
   "source": [
    "# ese *1.csv solo pilla los originales porque los tratados acaban en t.csv\n",
    "files = glob.glob(f\"{DATA}*1.csv\")"
   ]
  },
  {
   "cell_type": "code",
   "execution_count": 3,
   "id": "4878c357",
   "metadata": {},
   "outputs": [],
   "source": [
    "files.sort()"
   ]
  },
  {
   "cell_type": "code",
   "execution_count": 4,
   "id": "8804ddf6",
   "metadata": {},
   "outputs": [
    {
     "data": {
      "text/plain": [
       "['./csv/02_197706_1.csv',\n",
       " './csv/02_197903_1.csv',\n",
       " './csv/02_198210_1.csv',\n",
       " './csv/02_198606_1.csv',\n",
       " './csv/02_198910_1.csv',\n",
       " './csv/02_199306_1.csv',\n",
       " './csv/02_199603_1.csv',\n",
       " './csv/02_200003_1.csv',\n",
       " './csv/02_200403_1.csv',\n",
       " './csv/02_200803_1.csv',\n",
       " './csv/02_201111_1.csv',\n",
       " './csv/02_201512_1.csv',\n",
       " './csv/02_201606_1.csv',\n",
       " './csv/02_201904_1.csv',\n",
       " './csv/02_201911_1.csv']"
      ]
     },
     "execution_count": 4,
     "metadata": {},
     "output_type": "execute_result"
    }
   ],
   "source": [
    "files"
   ]
  },
  {
   "cell_type": "markdown",
   "id": "90cb27a6",
   "metadata": {},
   "source": [
    "#### Correct the files"
   ]
  },
  {
   "cell_type": "code",
   "execution_count": 5,
   "id": "fdc3f762",
   "metadata": {},
   "outputs": [],
   "source": [
    "for file in files:\n",
    "\n",
    "    test = pd.read_csv(file)\n",
    "    \n",
    "    # normaliza nombres de municipio y provincia\n",
    "    test[\"Nombre de Municipio\"] = test[\"Nombre de Municipio\"].apply(utils.proper)\n",
    "    test[\"Nombre de Provincia\"] = test[\"Nombre de Provincia\"].apply(utils.proper)\n",
    "\n",
    "    # se queda solo con las siglas del partido (normalizado)\n",
    "    test.rename(columns={column: utils.acronym(column) for column in test.columns[13:]}, inplace=True)\n",
    "    \n",
    "    test = test.rename(columns={'PODEMOS-IU-EQUO': 'PODEMOS', 'PODEMOS-IU': 'PODEMOS', 'PODEMOS-COM': 'PODEMOS', \n",
    "                                'PODEMOS-COMPROMÍS-EUPV': 'PODEMOS', 'PODEMOS-EN': 'PODEMOS', 'PODEMOS-EN MAREA-ANOVA-EU': \n",
    "                                'PODEMOS', 'EN COMÚ': 'PODEMOS', 'CCA-PNC-NC': 'CCA-PNC', 'COMPROMÍS 2019': 'MÉS COMPROMÍS', \n",
    "                                \"C'S\": 'CS', 'ECP-GUANYEM EL CANVI': 'PODEMOS', 'NCA': 'CCA-PNC', 'CC-NC-PNC': 'CCA-PNC', \n",
    "                                'AMAIUR': 'EH BILDU', 'CDC': 'CIU', 'ERC-SOBIRANISTES': 'ERC', 'ERC-CATSÍ': 'ERC', \n",
    "                                'ERC-CATSI': 'ERC', 'ESQUERRA': 'ERC', 'ECP': 'PODEMOS', 'P.S.O.E.': 'PSOE', 'PSOE-PROGR.': \n",
    "                                'PSOE', 'P.P.': 'PP'})\n",
    "    \n",
    "    # calcula el partido con mas votos, cuantos votos y lo guarda\n",
    "    utils.compute_popular(test).to_csv(f\"{file[:-4]}_treat.csv\")"
   ]
  },
  {
   "cell_type": "code",
   "execution_count": 6,
   "id": "d316c445",
   "metadata": {},
   "outputs": [
    {
     "name": "stdout",
     "output_type": "stream",
     "text": [
      "<class 'pandas.core.frame.DataFrame'>\n",
      "RangeIndex: 8131 entries, 0 to 8130\n",
      "Data columns (total 69 columns):\n",
      " #   Column                     Non-Null Count  Dtype \n",
      "---  ------                     --------------  ----- \n",
      " 0   PSOE                       8131 non-null   int64 \n",
      " 1   PP                         8131 non-null   int64 \n",
      " 2   VOX                        8131 non-null   int64 \n",
      " 3   PODEMOS                    8131 non-null   int64 \n",
      " 4   ERC                        8131 non-null   int64 \n",
      " 5   CS                         8131 non-null   int64 \n",
      " 6   JXCAT-JUNTS                8131 non-null   int64 \n",
      " 7   PODEMOS                    8131 non-null   int64 \n",
      " 8   EAJ-PNV                    8131 non-null   int64 \n",
      " 9   EH BILDU                   8131 non-null   int64 \n",
      " 10  MÁS PAÍS-EQUO              8131 non-null   int64 \n",
      " 11  CUP-PR                     8131 non-null   int64 \n",
      " 12  PODEMOS-EU                 8131 non-null   int64 \n",
      " 13  CCA-PNC                    8131 non-null   int64 \n",
      " 14  NA+                        8131 non-null   int64 \n",
      " 15  MÉS COMPROMÍS              8131 non-null   int64 \n",
      " 16  BNG                        8131 non-null   int64 \n",
      " 17  PRC                        8131 non-null   int64 \n",
      " 18  ¡TERUEL EXISTE!            8131 non-null   int64 \n",
      " 19  PACMA                      8131 non-null   int64 \n",
      " 20  MÁS PAÍS                   8131 non-null   int64 \n",
      " 21  RECORTES CERO-GV           8131 non-null   int64 \n",
      " 22  PUM+J                      8131 non-null   int64 \n",
      " 23  M PAÍS-CHA-EQUO            8131 non-null   int64 \n",
      " 24  MÉS-ESQUERRA               8131 non-null   int64 \n",
      " 25  AXSÍ                       8131 non-null   int64 \n",
      " 26  PCPE                       8131 non-null   int64 \n",
      " 27  PCTE                       8131 non-null   int64 \n",
      " 28  GBAI                       8131 non-null   int64 \n",
      " 29  UPL                        8131 non-null   int64 \n",
      " 30  PCOE                       8131 non-null   int64 \n",
      " 31  CPM                        8131 non-null   int64 \n",
      " 32  EB                         8131 non-null   int64 \n",
      " 33  ERPV                       8131 non-null   int64 \n",
      " 34  XAV                        8131 non-null   int64 \n",
      " 35  AVANT ADELANTE LOS VERDES  8131 non-null   int64 \n",
      " 36  VERDES                     8131 non-null   int64 \n",
      " 37  PH                         8131 non-null   int64 \n",
      " 38  I.FEM                      8131 non-null   int64 \n",
      " 39  UIG-SOM-CUIDES             8131 non-null   int64 \n",
      " 40  SOMOS REGIÓN               8131 non-null   int64 \n",
      " 41  IZQP                       8131 non-null   int64 \n",
      " 42  AHORA CANARIAS             8131 non-null   int64 \n",
      " 43  CONTIGO                    8131 non-null   int64 \n",
      " 44  CHA                        8131 non-null   int64 \n",
      " 45  PPSO                       8131 non-null   int64 \n",
      " 46  EXTREMADURA UNIDA          8131 non-null   int64 \n",
      " 47  PDSJE                      8131 non-null   int64 \n",
      " 48  P-LIB                      8131 non-null   int64 \n",
      " 49  MAS                        8131 non-null   int64 \n",
      " 50  UNIDOS SÍ-ACPS-DEF         8131 non-null   int64 \n",
      " 51  PREPAL                     8131 non-null   int64 \n",
      " 52  ANDECHA                    8131 non-null   int64 \n",
      " 53  MDYC                       8131 non-null   int64 \n",
      " 54  PYLN                       8131 non-null   int64 \n",
      " 55  FE DE LAS JONS             8131 non-null   int64 \n",
      " 56  AUNACV                     8131 non-null   int64 \n",
      " 57  UNIÓN REGIONALISTA         8131 non-null   int64 \n",
      " 58  CANDA                      8131 non-null   int64 \n",
      " 59  FIA                        8131 non-null   int64 \n",
      " 60  SOLIDARIA                  8131 non-null   int64 \n",
      " 61  RISA                       8131 non-null   int64 \n",
      " 62  CENTRADOS                  8131 non-null   int64 \n",
      " 63  DPL                        8131 non-null   int64 \n",
      " 64  IZAR                       8131 non-null   int64 \n",
      " 65  C 21                       8131 non-null   int64 \n",
      " 66  UDT                        8131 non-null   int64 \n",
      " 67  Popular                    8131 non-null   object\n",
      " 68  Popular votos              8131 non-null   int64 \n",
      "dtypes: int64(68), object(1)\n",
      "memory usage: 4.3+ MB\n"
     ]
    }
   ],
   "source": [
    "# test.columns[:13] common vote, town info. Dropping this gives list of political parties\n",
    "test.drop(columns=test.columns[:13]).info()"
   ]
  },
  {
   "cell_type": "markdown",
   "id": "48e21057",
   "metadata": {},
   "source": [
    "#### Get elections from 2000 until now"
   ]
  },
  {
   "cell_type": "code",
   "execution_count": 7,
   "id": "52f09433",
   "metadata": {},
   "outputs": [],
   "source": [
    "files_treated = glob.glob(f\"{DATA}02_20*t.csv\")\n",
    "common_columns = [\"Unnamed: 0\", \"Nombre de Comunidad\", \"Código de Provincia\", \"Nombre de Provincia\", \"Código de Municipio\",\n",
    "                  \"Nombre de Municipio\"]\n",
    "char_columns = [\"Unnamed: 0\", \"Nombre de Comunidad\", \"Código de Provincia\", \"Nombre de Provincia\", \"Código de Municipio\",\n",
    "                   \"Nombre de Municipio\", \"Población\", \"Número de mesas\", \"Popular\"]\n",
    "elections20_ = pd.read_csv(files_treated[0])\n",
    "elections20_ = elections20_.reset_index(drop=True)\n",
    "for col in elections20_.columns:\n",
    "    if col not in char_columns:\n",
    "        elections20_[col] = elections20_[col]/elections20_[\"Población\"]\n",
    "elections20_ = elections20_.drop(columns=[\"Población\",\"Unnamed: 0\"])\n",
    "for col in elections20_.columns:\n",
    "    if col not in common_columns:\n",
    "        elections20_.rename(columns={col: col+\"_2000_03\"},inplace=True) \n",
    "for file in files_treated[1:]:\n",
    "    ele = pd.read_csv(file)\n",
    "    ele.rename(columns={\"Población \": \"Población\"},inplace=True) \n",
    "    ele = ele.reset_index(drop=True)\n",
    "    name = '_'+file.split('_')[1][:4]+'_'+file.split('_')[1][4:]\n",
    "    for col in ele.columns:\n",
    "        if col not in char_columns:\n",
    "            ele[col] = ele[col]/ele[\"Población\"]\n",
    "    for col in ele.columns:\n",
    "        if col not in common_columns:\n",
    "            ele.rename(columns={col: col+f'{name}'},inplace=True) \n",
    "    elections20_ = pd.merge(elections20_, ele, on=[\"Nombre de Comunidad\", \"Código de Provincia\",\n",
    "                                                     \"Nombre de Provincia\", \"Código de Municipio\",\n",
    "                                                     \"Nombre de Municipio\"],how = 'outer',suffixes=(\"\",f'{name}'))\n",
    "    elections20_ = elections20_.drop(columns=[\"Población\"+f'{name}',\"Unnamed: 0\"])"
   ]
  },
  {
   "cell_type": "markdown",
   "id": "d3c18807",
   "metadata": {},
   "source": [
    "### Analysis of elections from 2010 until now"
   ]
  },
  {
   "cell_type": "code",
   "execution_count": 8,
   "id": "cfde1fb6",
   "metadata": {},
   "outputs": [
    {
     "ename": "KeyError",
     "evalue": "'Popular_2011_11'",
     "output_type": "error",
     "traceback": [
      "\u001b[0;31m---------------------------------------------------------------------------\u001b[0m",
      "\u001b[0;31mKeyError\u001b[0m                                  Traceback (most recent call last)",
      "File \u001b[0;32m/Library/Frameworks/Python.framework/Versions/3.10/lib/python3.10/site-packages/pandas/core/indexes/base.py:3803\u001b[0m, in \u001b[0;36mIndex.get_loc\u001b[0;34m(self, key, method, tolerance)\u001b[0m\n\u001b[1;32m   3802\u001b[0m \u001b[38;5;28;01mtry\u001b[39;00m:\n\u001b[0;32m-> 3803\u001b[0m     \u001b[38;5;28;01mreturn\u001b[39;00m \u001b[38;5;28;43mself\u001b[39;49m\u001b[38;5;241;43m.\u001b[39;49m\u001b[43m_engine\u001b[49m\u001b[38;5;241;43m.\u001b[39;49m\u001b[43mget_loc\u001b[49m\u001b[43m(\u001b[49m\u001b[43mcasted_key\u001b[49m\u001b[43m)\u001b[49m\n\u001b[1;32m   3804\u001b[0m \u001b[38;5;28;01mexcept\u001b[39;00m \u001b[38;5;167;01mKeyError\u001b[39;00m \u001b[38;5;28;01mas\u001b[39;00m err:\n",
      "File \u001b[0;32m/Library/Frameworks/Python.framework/Versions/3.10/lib/python3.10/site-packages/pandas/_libs/index.pyx:138\u001b[0m, in \u001b[0;36mpandas._libs.index.IndexEngine.get_loc\u001b[0;34m()\u001b[0m\n",
      "File \u001b[0;32m/Library/Frameworks/Python.framework/Versions/3.10/lib/python3.10/site-packages/pandas/_libs/index.pyx:165\u001b[0m, in \u001b[0;36mpandas._libs.index.IndexEngine.get_loc\u001b[0;34m()\u001b[0m\n",
      "File \u001b[0;32mpandas/_libs/hashtable_class_helper.pxi:5745\u001b[0m, in \u001b[0;36mpandas._libs.hashtable.PyObjectHashTable.get_item\u001b[0;34m()\u001b[0m\n",
      "File \u001b[0;32mpandas/_libs/hashtable_class_helper.pxi:5753\u001b[0m, in \u001b[0;36mpandas._libs.hashtable.PyObjectHashTable.get_item\u001b[0;34m()\u001b[0m\n",
      "\u001b[0;31mKeyError\u001b[0m: 'Popular_2011_11'",
      "\nThe above exception was the direct cause of the following exception:\n",
      "\u001b[0;31mKeyError\u001b[0m                                  Traceback (most recent call last)",
      "Cell \u001b[0;32mIn [8], line 1\u001b[0m\n\u001b[0;32m----> 1\u001b[0m p1111 \u001b[38;5;241m=\u001b[39m \u001b[43melections20_\u001b[49m\u001b[43m[\u001b[49m\u001b[38;5;124;43m\"\u001b[39;49m\u001b[38;5;124;43mPopular_2011_11\u001b[39;49m\u001b[38;5;124;43m\"\u001b[39;49m\u001b[43m]\u001b[49m\u001b[38;5;241m.\u001b[39mvalue_counts()\n\u001b[1;32m      2\u001b[0m p1215 \u001b[38;5;241m=\u001b[39m elections20_[\u001b[38;5;124m\"\u001b[39m\u001b[38;5;124mPopular_2015_12\u001b[39m\u001b[38;5;124m\"\u001b[39m]\u001b[38;5;241m.\u001b[39mvalue_counts()\n\u001b[1;32m      3\u001b[0m p0616 \u001b[38;5;241m=\u001b[39m elections20_[\u001b[38;5;124m\"\u001b[39m\u001b[38;5;124mPopular_2016_06\u001b[39m\u001b[38;5;124m\"\u001b[39m]\u001b[38;5;241m.\u001b[39mvalue_counts()\n",
      "File \u001b[0;32m/Library/Frameworks/Python.framework/Versions/3.10/lib/python3.10/site-packages/pandas/core/frame.py:3804\u001b[0m, in \u001b[0;36mDataFrame.__getitem__\u001b[0;34m(self, key)\u001b[0m\n\u001b[1;32m   3802\u001b[0m \u001b[38;5;28;01mif\u001b[39;00m \u001b[38;5;28mself\u001b[39m\u001b[38;5;241m.\u001b[39mcolumns\u001b[38;5;241m.\u001b[39mnlevels \u001b[38;5;241m>\u001b[39m \u001b[38;5;241m1\u001b[39m:\n\u001b[1;32m   3803\u001b[0m     \u001b[38;5;28;01mreturn\u001b[39;00m \u001b[38;5;28mself\u001b[39m\u001b[38;5;241m.\u001b[39m_getitem_multilevel(key)\n\u001b[0;32m-> 3804\u001b[0m indexer \u001b[38;5;241m=\u001b[39m \u001b[38;5;28;43mself\u001b[39;49m\u001b[38;5;241;43m.\u001b[39;49m\u001b[43mcolumns\u001b[49m\u001b[38;5;241;43m.\u001b[39;49m\u001b[43mget_loc\u001b[49m\u001b[43m(\u001b[49m\u001b[43mkey\u001b[49m\u001b[43m)\u001b[49m\n\u001b[1;32m   3805\u001b[0m \u001b[38;5;28;01mif\u001b[39;00m is_integer(indexer):\n\u001b[1;32m   3806\u001b[0m     indexer \u001b[38;5;241m=\u001b[39m [indexer]\n",
      "File \u001b[0;32m/Library/Frameworks/Python.framework/Versions/3.10/lib/python3.10/site-packages/pandas/core/indexes/base.py:3805\u001b[0m, in \u001b[0;36mIndex.get_loc\u001b[0;34m(self, key, method, tolerance)\u001b[0m\n\u001b[1;32m   3803\u001b[0m     \u001b[38;5;28;01mreturn\u001b[39;00m \u001b[38;5;28mself\u001b[39m\u001b[38;5;241m.\u001b[39m_engine\u001b[38;5;241m.\u001b[39mget_loc(casted_key)\n\u001b[1;32m   3804\u001b[0m \u001b[38;5;28;01mexcept\u001b[39;00m \u001b[38;5;167;01mKeyError\u001b[39;00m \u001b[38;5;28;01mas\u001b[39;00m err:\n\u001b[0;32m-> 3805\u001b[0m     \u001b[38;5;28;01mraise\u001b[39;00m \u001b[38;5;167;01mKeyError\u001b[39;00m(key) \u001b[38;5;28;01mfrom\u001b[39;00m \u001b[38;5;21;01merr\u001b[39;00m\n\u001b[1;32m   3806\u001b[0m \u001b[38;5;28;01mexcept\u001b[39;00m \u001b[38;5;167;01mTypeError\u001b[39;00m:\n\u001b[1;32m   3807\u001b[0m     \u001b[38;5;66;03m# If we have a listlike key, _check_indexing_error will raise\u001b[39;00m\n\u001b[1;32m   3808\u001b[0m     \u001b[38;5;66;03m#  InvalidIndexError. Otherwise we fall through and re-raise\u001b[39;00m\n\u001b[1;32m   3809\u001b[0m     \u001b[38;5;66;03m#  the TypeError.\u001b[39;00m\n\u001b[1;32m   3810\u001b[0m     \u001b[38;5;28mself\u001b[39m\u001b[38;5;241m.\u001b[39m_check_indexing_error(key)\n",
      "\u001b[0;31mKeyError\u001b[0m: 'Popular_2011_11'"
     ]
    }
   ],
   "source": [
    "p1111 = elections20_[\"Popular_2011_11\"].value_counts()\n",
    "p1215 = elections20_[\"Popular_2015_12\"].value_counts()\n",
    "p0616 = elections20_[\"Popular_2016_06\"].value_counts()\n",
    "p0419 = elections20_[\"Popular_2019_04\"].value_counts()\n",
    "p1119 = elections20_[\"Popular_2019_11\"].value_counts()\n",
    "popular201_ = p1111.to_frame().join(p1215, how='outer').join(p0616, how='outer').join(p0419, how='outer').join(p1119, \n",
    "                    how='outer').sort_values(by=['Popular_2019_11', 'Popular_2019_04'], ascending=False)\n",
    "popular201_ = popular201_.replace(np.nan,0.0)\n",
    "popular201_.head(15)"
   ]
  },
  {
   "cell_type": "markdown",
   "id": "87debe32",
   "metadata": {},
   "source": [
    "#### Predicting elections on nov 2019"
   ]
  },
  {
   "cell_type": "code",
   "execution_count": null,
   "id": "1a1c672f",
   "metadata": {},
   "outputs": [],
   "source": [
    "X = popular201_.copy().drop(columns='Popular_2019_11')\n",
    "y = popular201_['Popular_2019_11']\n",
    "Xtrain, Xtest, ytrain, ytest = train_test_split(X, y, random_state = 0)\n",
    "\n",
    "linreg_model = LinearRegression()\n",
    "linreg_model.fit(Xtrain, ytrain)\n",
    "prediction_linreg = linreg_model.predict(Xtest)\n",
    "\n",
    "dtree = tree.DecisionTreeRegressor()\n",
    "dtree.fit(Xtrain, ytrain)\n",
    "prediction_dtree = dtree.predict(Xtest)\n",
    "\n",
    "rforest = RandomForestRegressor()\n",
    "rforest.fit(Xtrain, ytrain)\n",
    "prediction_rforest = rforest.predict(Xtest)\n",
    "\n",
    "nn = MLPRegressor(solver='lbfgs', alpha=1e-1, hidden_layer_sizes=(5, 2), random_state = 1)\n",
    "nn.fit(Xtrain, ytrain)\n",
    "prediction_nn = nn.predict(Xtest)\n",
    "\n",
    "results201_ = ytest.to_frame()\n",
    "results201_['Prediciton_linreg'] = prediction_linreg.astype(int).astype(float)\n",
    "results201_['Prediciton_dtree'] = prediction_dtree.astype(int).astype(float)\n",
    "results201_['Prediciton_rforest'] = prediction_rforest.astype(int).astype(float)\n",
    "results201_['Prediciton_nn'] = prediction_nn.astype(int).astype(float)\n",
    "\n",
    "results201_"
   ]
  },
  {
   "cell_type": "code",
   "execution_count": null,
   "id": "2ea3a698",
   "metadata": {},
   "outputs": [],
   "source": [
    "mse_linreg = mean_squared_error(ytest, prediction_linreg)\n",
    "mse_dtree = mean_squared_error(ytest, prediction_dtree)\n",
    "mse_rforest = mean_squared_error(ytest, prediction_rforest)\n",
    "mse_nn = mean_squared_error(ytest, prediction_nn)\n",
    "\n",
    "mse_results = {'mse_linreg': mse_linreg, 'mse_dtree': mse_dtree, 'mse_rforest': mse_rforest, 'mse_nn': mse_nn}\n",
    "mse_results"
   ]
  },
  {
   "cell_type": "markdown",
   "id": "696093cb",
   "metadata": {},
   "source": [
    "#### Analysis of linear regression of predicting elections on nov 2019"
   ]
  },
  {
   "cell_type": "code",
   "execution_count": null,
   "id": "58cb829c",
   "metadata": {},
   "outputs": [],
   "source": [
    "fig, axs = plt.subplots()\n",
    "plt.scatter(Xtest['Popular_2019_04'], prediction_linreg)\n",
    "plt.plot([0,1],[0,1], transform=axs.transAxes)\n",
    "plt.xlabel('Popular_2019_04')\n",
    "plt.ylabel('Popular_2019_11')\n",
    "plt.show()"
   ]
  },
  {
   "cell_type": "markdown",
   "id": "bc4bb5af",
   "metadata": {},
   "source": [
    "#### Analysis of NN of predicting elections on nov 2019"
   ]
  },
  {
   "cell_type": "code",
   "execution_count": null,
   "id": "57e06dbd",
   "metadata": {},
   "outputs": [],
   "source": [
    "# Use Shap explainer to interpret values in the test set:\n",
    "shap.initjs() \n",
    "explainer = shap.KernelExplainer(nn.predict, Xtrain)\n",
    "shap_values = explainer.shap_values(X)"
   ]
  },
  {
   "cell_type": "code",
   "execution_count": null,
   "id": "13c13be6",
   "metadata": {},
   "outputs": [],
   "source": [
    "shap.summary_plot(shap_values, X, matplotlib=True, show=False)\n",
    "plt.savefig(f\"shap_figures/summary_plot.png\", bbox_inches=\"tight\")\n",
    "plt.clf()"
   ]
  },
  {
   "cell_type": "code",
   "execution_count": null,
   "id": "cc1acf68",
   "metadata": {},
   "outputs": [],
   "source": [
    "shap.dependence_plot(\"Popular_2019_04\", shap_values, X, matplotlib=True, show=False)\n",
    "plt.savefig(f\"shap_figures/dependence_plot.png\", bbox_inches=\"tight\")\n",
    "plt.clf()"
   ]
  },
  {
   "cell_type": "markdown",
   "id": "3c9480ed",
   "metadata": {},
   "source": [
    "### Analysis of elections from 2000 until now"
   ]
  },
  {
   "cell_type": "code",
   "execution_count": null,
   "id": "3df026e6",
   "metadata": {},
   "outputs": [],
   "source": [
    "p0300 = elections20_[\"Popular_2000_03\"].value_counts().to_frame()\n",
    "p0304 = elections20_[\"Popular_2004_03\"].value_counts()\n",
    "p0308 = elections20_[\"Popular_2008_03\"].value_counts()\n",
    "popular20_ = p0300.join(p0304, how='outer').join(p0308, how='outer').join(p1111, how='outer').join(p1215, \n",
    "                    how='outer').join(p0616, how='outer').join(p0419, how='outer').join(p1119, \n",
    "                    how='outer').sort_values(by=['Popular_2019_11', 'Popular_2019_04'], ascending=False)\n",
    "popular20_ = popular20_.replace(np.nan,0.0)\n",
    "popular20_.head(15)"
   ]
  },
  {
   "cell_type": "markdown",
   "id": "11d0104e",
   "metadata": {},
   "source": [
    "#### Predicting elections on nov 2019"
   ]
  },
  {
   "cell_type": "code",
   "execution_count": null,
   "id": "7ee5fd85",
   "metadata": {},
   "outputs": [],
   "source": [
    "X = popular20_.copy().drop(columns='Popular_2019_11')\n",
    "y = popular20_['Popular_2019_11']\n",
    "Xtrain, Xtest, ytrain, ytest = train_test_split(X, y, random_state = 0)\n",
    "\n",
    "linreg_model = LinearRegression()\n",
    "linreg_model.fit(Xtrain, ytrain)\n",
    "prediction_linreg = linreg_model.predict(Xtest)\n",
    "\n",
    "dtree = tree.DecisionTreeRegressor()\n",
    "dtree.fit(Xtrain, ytrain)\n",
    "prediction_dtree = dtree.predict(Xtest)\n",
    "\n",
    "rforest = RandomForestRegressor()\n",
    "rforest.fit(Xtrain, ytrain)\n",
    "prediction_rforest = rforest.predict(Xtest)\n",
    "\n",
    "nn = MLPRegressor(solver='lbfgs', alpha=1e-1, hidden_layer_sizes=(5, 2), random_state = 18)\n",
    "nn.fit(Xtrain, ytrain)\n",
    "prediction_nn = nn.predict(Xtest)\n",
    "\n",
    "results20_ = ytest.to_frame()\n",
    "results20_['Prediciton_linreg'] = prediction_linreg.astype(int).astype(float)\n",
    "results20_['Prediciton_dtree'] = prediction_dtree.astype(int).astype(float)\n",
    "results20_['Prediciton_rforest'] = prediction_rforest.astype(int).astype(float)\n",
    "results20_['Prediciton_nn'] = prediction_nn.astype(int).astype(float)\n",
    "\n",
    "results20_"
   ]
  },
  {
   "cell_type": "code",
   "execution_count": null,
   "id": "41d90b7d",
   "metadata": {},
   "outputs": [],
   "source": [
    "mse_linreg = mean_squared_error(ytest, prediction_linreg)\n",
    "mse_dtree = mean_squared_error(ytest, prediction_dtree)\n",
    "mse_rforest = mean_squared_error(ytest, prediction_rforest)\n",
    "mse_nn = mean_squared_error(ytest, prediction_nn)\n",
    "\n",
    "mse_results = {'mse_linreg': mse_linreg, 'mse_dtree': mse_dtree, 'mse_rforest': mse_rforest, 'mse_nn': mse_nn}\n",
    "mse_results"
   ]
  },
  {
   "cell_type": "markdown",
   "id": "c98885a5",
   "metadata": {},
   "source": [
    "#### Analysis of linear regression of predicting elections on nov 2019"
   ]
  },
  {
   "cell_type": "code",
   "execution_count": null,
   "id": "cff67c7b",
   "metadata": {},
   "outputs": [],
   "source": [
    "fig, axs = plt.subplots()\n",
    "plt.scatter(Xtest['Popular_2019_04'], prediction_linreg)\n",
    "plt.plot([0,1],[0,1], transform=axs.transAxes)\n",
    "plt.xlabel('Popular_2019_04')\n",
    "plt.ylabel('Predicted_2019_11')\n",
    "plt.show()"
   ]
  },
  {
   "cell_type": "markdown",
   "id": "87fdc015",
   "metadata": {},
   "source": [
    "#### Analysis of NN of predicting elections on nov 2019"
   ]
  },
  {
   "cell_type": "code",
   "execution_count": null,
   "id": "2a55c86e",
   "metadata": {},
   "outputs": [],
   "source": [
    "# Use Shap explainer to interpret values in the test set:\n",
    "shap.initjs() \n",
    "explainer = shap.KernelExplainer(nn.predict, Xtrain)\n",
    "shap_values = explainer.shap_values(X)"
   ]
  },
  {
   "cell_type": "code",
   "execution_count": null,
   "id": "81e3706c",
   "metadata": {},
   "outputs": [],
   "source": [
    "shap.summary_plot(shap_values, X, matplotlib=True, show=False)\n",
    "plt.savefig(f\"shap_figures/summary_plot_2.png\", bbox_inches=\"tight\")\n",
    "plt.clf()\n"
   ]
  },
  {
   "cell_type": "code",
   "execution_count": null,
   "id": "f10d54b8",
   "metadata": {},
   "outputs": [],
   "source": [
    "shap.dependence_plot(\"Popular_2019_04\", shap_values, X, matplotlib=True, show=False)\n",
    "plt.savefig(f\"shap_figures/dependence_plot_2.png\", bbox_inches=\"tight\")\n",
    "plt.clf()"
   ]
  },
  {
   "cell_type": "markdown",
   "id": "a8654304",
   "metadata": {},
   "source": [
    "### Analysis of common political parties in 2019"
   ]
  },
  {
   "cell_type": "code",
   "execution_count": null,
   "id": "7cb8224d",
   "metadata": {},
   "outputs": [],
   "source": [
    "files_treated2 = glob.glob(f\"{DATA}02_2019*t.csv\")\n",
    "ele1 = pd.read_csv(files_treated2[0])\n",
    "ele1 = ele1.reset_index(drop=True)\n",
    "ele2 = pd.read_csv(files_treated2[1])\n",
    "ele2 = ele2.reset_index(drop=True)\n",
    "elections2019 = pd.merge(ele1, ele2, on=[\"Unnamed: 0\", \"Nombre de Comunidad\",\"Código de Provincia\",\"Nombre de Provincia\",\n",
    "                                     \"Código de Municipio\",\"Nombre de Municipio\", \"Población\"],suffixes=(\"_apr\",\"_nov\"))"
   ]
  },
  {
   "cell_type": "code",
   "execution_count": null,
   "id": "2a8452a9",
   "metadata": {},
   "outputs": [],
   "source": [
    "elections2019['Número de mesas_apr'].apply(lambda x: float(x))\n",
    "elections2019['Número de mesas_nov'].apply(lambda x: float(x))\n",
    "elections2019['Total censo electoral_apr'].apply(lambda x: float(x))\n",
    "elections2019['Total censo electoral_nov'].apply(lambda x: float(x))\n",
    "elections2019['Popular votos_apr'].apply(lambda x: float(x))\n",
    "elections2019['Popular votos_nov'].apply(lambda x: float(x))\n",
    "elections2019 = elections2019.replace(np.nan,0.0)"
   ]
  },
  {
   "cell_type": "code",
   "execution_count": null,
   "id": "22e657b2",
   "metadata": {},
   "outputs": [],
   "source": [
    "elections2019.info()"
   ]
  },
  {
   "cell_type": "code",
   "execution_count": null,
   "id": "5759d5ec",
   "metadata": {},
   "outputs": [],
   "source": [
    "for col in elections2019.columns:\n",
    "    if col not in [\"Unnamed: 0\", \"Nombre de Comunidad\", \"Código de Provincia\", \"Nombre de Provincia\", \"Código de Municipio\",\n",
    "                   \"Nombre de Municipio\", \"Población\", \"Número de mesas_apr\", \"Número de mesas_nov\", \"Popular_apr\", \n",
    "                   \"Popular_nov\"]:\n",
    "        elections2019[col] = elections2019[col]/elections2019[\"Población\"]"
   ]
  },
  {
   "cell_type": "code",
   "execution_count": null,
   "id": "04a21fe4",
   "metadata": {},
   "outputs": [],
   "source": [
    "elections2019[\"Popular_apr\"].value_counts().to_frame().join(elections2019[\"Popular_nov\"].value_counts(), how='outer').sort_values(by=['Popular_nov', 'Popular_apr'], ascending=False)"
   ]
  },
  {
   "cell_type": "code",
   "execution_count": null,
   "id": "5dbf10d6",
   "metadata": {
    "scrolled": true
   },
   "outputs": [],
   "source": [
    "fig, axs = plt.subplots(1, 3, sharex=False, figsize=(15,5))\n",
    "fig.suptitle('PSOE')\n",
    "sns.histplot(ax=axs[0], x=elections2019['PSOE_apr'].values, kde=True).set_title('april')\n",
    "sns.histplot(ax=axs[1], x=elections2019['PSOE_nov'].values, kde=True).set_title('november')\n",
    "sns.histplot(ax=axs[2], x=elections2019['PSOE_apr'].values, kde=True)\n",
    "sns.histplot(ax=axs[2], x=elections2019['PSOE_nov'].values, kde=True).set_title('PSOE april vs november')\n",
    "plt.legend(['april','november'])\n",
    "axs[0].set_ylim(0, 500)\n",
    "axs[1].set_ylim(0, 500)\n",
    "axs[2].set_ylim(0, 500)\n",
    "plt.show()"
   ]
  },
  {
   "cell_type": "code",
   "execution_count": null,
   "id": "1d78e24d",
   "metadata": {
    "scrolled": true
   },
   "outputs": [],
   "source": [
    "fig, axs = plt.subplots(1, 3, sharex=False, figsize=(15,5))\n",
    "fig.suptitle('PP')\n",
    "sns.histplot(ax=axs[0], x=elections2019['PP_apr'].values, kde=True).set_title('april')\n",
    "sns.histplot(ax=axs[1], x=elections2019['PP_nov'].values, kde=True).set_title('november')\n",
    "sns.histplot(ax=axs[2], x=elections2019['PP_apr'].values, kde=True)\n",
    "sns.histplot(ax=axs[2], x=elections2019['PP_nov'].values, kde=True).set_title('PP april vs november')\n",
    "plt.legend(['april','november'])\n",
    "axs[0].set_ylim(0, 800)\n",
    "axs[1].set_ylim(0, 800)\n",
    "axs[2].set_ylim(0, 800)\n",
    "plt.show()"
   ]
  },
  {
   "cell_type": "code",
   "execution_count": null,
   "id": "49a4e1bf",
   "metadata": {
    "scrolled": true
   },
   "outputs": [],
   "source": [
    "fig, axs = plt.subplots(1, 3, sharex=False, figsize=(15,5))\n",
    "fig.suptitle('VOX')\n",
    "sns.histplot(ax=axs[0], x=elections2019['VOX_apr'].values, kde=True).set_title('april')\n",
    "sns.histplot(ax=axs[1], x=elections2019['VOX_nov'].values, kde=True).set_title('november')\n",
    "sns.histplot(ax=axs[2], x=elections2019['VOX_apr'].values, kde=True)\n",
    "sns.histplot(ax=axs[2], x=elections2019['VOX_nov'].values, kde=True).set_title('VOX april vs november')\n",
    "plt.legend(['april','november'])\n",
    "axs[0].set_ylim(0, 500)\n",
    "axs[1].set_ylim(0, 500)\n",
    "axs[2].set_ylim(0, 500)\n",
    "plt.show()"
   ]
  },
  {
   "cell_type": "code",
   "execution_count": null,
   "id": "00b7254a",
   "metadata": {},
   "outputs": [],
   "source": [
    "fig, axs = plt.subplots(1, 3, sharex=False, figsize=(15,5))\n",
    "fig.suptitle('PODEMOS')\n",
    "sns.histplot(ax=axs[0], x=elections2019['PODEMOS_apr'].values, kde=True).set_title('april')\n",
    "sns.histplot(ax=axs[1], x=elections2019['PODEMOS_nov'].values, kde=True).set_title('november')\n",
    "sns.histplot(ax=axs[2], x=elections2019['PODEMOS_apr'].values, kde=True)\n",
    "sns.histplot(ax=axs[2], x=elections2019['PODEMOS_nov'].values, kde=True).set_title('PODEMOS april vs november')\n",
    "plt.legend(['april','november'])\n",
    "axs[0].set_ylim(0, 500)\n",
    "axs[1].set_ylim(0, 500)\n",
    "axs[2].set_ylim(0, 500)\n",
    "plt.show()"
   ]
  },
  {
   "cell_type": "code",
   "execution_count": null,
   "id": "7be78fa6",
   "metadata": {},
   "outputs": [],
   "source": [
    "fig, axs = plt.subplots(1, 3, sharex=False, figsize=(15,5))\n",
    "fig.suptitle('CS')\n",
    "sns.histplot(ax=axs[0], x=elections2019['CS_apr'].values, kde=True).set_title('april')\n",
    "sns.histplot(ax=axs[1], x=elections2019['CS_nov'].values, kde=True).set_title('november')\n",
    "sns.histplot(ax=axs[2], x=elections2019['CS_apr'].values, kde=True)\n",
    "sns.histplot(ax=axs[2], x=elections2019['CS_nov'].values, kde=True).set_title('CS april vs november')\n",
    "plt.legend(['april','november'])\n",
    "axs[0].set_ylim(0, 500)\n",
    "axs[1].set_ylim(0, 500)\n",
    "axs[2].set_ylim(0, 500)\n",
    "plt.show()"
   ]
  }
 ],
 "metadata": {
  "kernelspec": {
   "display_name": "Python 3 (ipykernel)",
   "language": "python",
   "name": "python3"
  },
  "language_info": {
   "codemirror_mode": {
    "name": "ipython",
    "version": 3
   },
   "file_extension": ".py",
   "mimetype": "text/x-python",
   "name": "python",
   "nbconvert_exporter": "python",
   "pygments_lexer": "ipython3",
   "version": "3.10.2"
  }
 },
 "nbformat": 4,
 "nbformat_minor": 5
}
