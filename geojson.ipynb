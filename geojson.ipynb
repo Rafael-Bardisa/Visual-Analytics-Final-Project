{
 "cells": [
  {
   "cell_type": "code",
   "execution_count": 60,
   "id": "9140bac8-f0f6-4840-85c0-c2fd61de2515",
   "metadata": {},
   "outputs": [],
   "source": [
    "import pandas as pd\n",
    "import glob\n",
    "import utils\n",
    "import json\n",
    "from functools import reduce\n",
    "\n",
    "DATA = \"./geojson/\""
   ]
  },
  {
   "cell_type": "code",
   "execution_count": 61,
   "id": "ad3ad672-0f7a-4559-9d87-b7bcf81dcfb5",
   "metadata": {},
   "outputs": [],
   "source": [
    "files = glob.glob(f\"{DATA}municipios*\")"
   ]
  },
  {
   "cell_type": "code",
   "execution_count": 62,
   "id": "6a875b40-fa99-4256-9005-81d8f824933a",
   "metadata": {},
   "outputs": [
    {
     "data": {
      "text/plain": [
       "['./geojson/municipios_canarias.geojson',\n",
       " './geojson/municipios_peninsula.geojson']"
      ]
     },
     "execution_count": 62,
     "metadata": {},
     "output_type": "execute_result"
    }
   ],
   "source": [
    "files"
   ]
  },
  {
   "cell_type": "code",
   "execution_count": 63,
   "id": "3b07c96e-1365-4b8c-abb9-f8031f7476a1",
   "metadata": {},
   "outputs": [],
   "source": [
    "with open(files[0], \"r\") as test:\n",
    "    test2 = json.load(test)"
   ]
  },
  {
   "cell_type": "code",
   "execution_count": 64,
   "id": "9071357f-3087-4f4a-a861-088775cae459",
   "metadata": {},
   "outputs": [],
   "source": [
    "with open(f\"{DATA}/test.geojson\", \"w\", encoding=\"utf-8\") as fp:\n",
    "    json.dump(test2, fp)"
   ]
  },
  {
   "cell_type": "code",
   "execution_count": 65,
   "id": "6841b6ae-1989-4bf0-9868-51e084f5d63a",
   "metadata": {},
   "outputs": [
    {
     "data": {
      "text/plain": [
       "True"
      ]
     },
     "execution_count": 65,
     "metadata": {},
     "output_type": "execute_result"
    }
   ],
   "source": [
    "with open(f\"{DATA}/test.geojson\", \"r\") as test:\n",
    "    test3 = json.load(test)\n",
    "test2 == test3\n"
   ]
  },
  {
   "cell_type": "code",
   "execution_count": 66,
   "id": "1e869733-3278-4d77-a379-ecb5dea3d05f",
   "metadata": {},
   "outputs": [],
   "source": [
    "with open(files[0], \"r\") as file:\n",
    "    merged_json = json.load(file)\n",
    "\n",
    "municipios = []\n",
    "for file in files:\n",
    "    with open(file, \"r\") as json_file:\n",
    "        municipios.append(json.load(json_file)['features'])\n",
    "        \n",
    "merged_json['features'] = reduce(lambda a, b: a+b, municipios)"
   ]
  },
  {
   "cell_type": "code",
   "execution_count": 67,
   "id": "f8ed9dcd-5d5f-4b0d-8ec4-f20954bd4cdd",
   "metadata": {},
   "outputs": [],
   "source": [
    "with open(f\"{DATA}total_municipios.geojson\", \"w\") as fp:\n",
    "    json.dump(merged_json, fp)"
   ]
  },
  {
   "cell_type": "code",
   "execution_count": 75,
   "id": "19514838-6fc9-452f-9fe7-976ac14f0d8f",
   "metadata": {},
   "outputs": [],
   "source": [
    "df = pd.DataFrame.from_records([elem['properties'] for elem in merged_json['features']])"
   ]
  },
  {
   "cell_type": "code",
   "execution_count": 77,
   "id": "35957c20-5b08-44b9-bdcc-8a37fa4c9944",
   "metadata": {},
   "outputs": [
    {
     "name": "stdout",
     "output_type": "stream",
     "text": [
      "<class 'pandas.core.frame.DataFrame'>\n",
      "RangeIndex: 8219 entries, 0 to 8218\n",
      "Data columns (total 14 columns):\n",
      " #   Column                    Non-Null Count  Dtype  \n",
      "---  ------                    --------------  -----  \n",
      " 0   comunidad_name            8219 non-null   object \n",
      " 1   comunidad_normalizedName  8219 non-null   object \n",
      " 2   normalizedName            8219 non-null   object \n",
      " 3   name                      8219 non-null   object \n",
      " 4   provincia_name            8219 non-null   object \n",
      " 5   comunidad_id              94 non-null     float64\n",
      " 6   provincia_normalizedName  8219 non-null   object \n",
      " 7   provincia_id              8219 non-null   int64  \n",
      " 8   id                        8219 non-null   int64  \n",
      " 9   comunidad_id_indra        8219 non-null   int64  \n",
      " 10  layer                     94 non-null     object \n",
      " 11  path                      94 non-null     object \n",
      " 12  fid                       8125 non-null   float64\n",
      " 13  comunida_id               8125 non-null   float64\n",
      "dtypes: float64(3), int64(3), object(8)\n",
      "memory usage: 899.1+ KB\n"
     ]
    }
   ],
   "source": [
    "df.info()"
   ]
  },
  {
   "cell_type": "code",
   "execution_count": null,
   "id": "878eb200-7f49-4ff7-9f42-9561ae150d74",
   "metadata": {},
   "outputs": [],
   "source": []
  }
 ],
 "metadata": {
  "kernelspec": {
   "display_name": "Python 3 (ipykernel)",
   "language": "python",
   "name": "python3"
  },
  "language_info": {
   "codemirror_mode": {
    "name": "ipython",
    "version": 3
   },
   "file_extension": ".py",
   "mimetype": "text/x-python",
   "name": "python",
   "nbconvert_exporter": "python",
   "pygments_lexer": "ipython3",
   "version": "3.10.2"
  }
 },
 "nbformat": 4,
 "nbformat_minor": 5
}
