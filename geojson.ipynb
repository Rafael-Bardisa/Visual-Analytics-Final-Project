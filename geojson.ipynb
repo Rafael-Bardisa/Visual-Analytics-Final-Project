{
 "cells": [
  {
   "cell_type": "code",
   "execution_count": 1,
   "metadata": {},
   "outputs": [],
   "source": [
    "import pandas as pd\n",
    "import glob\n",
    "import utils\n",
    "import json\n",
    "from functools import reduce\n",
    "\n",
    "DATA = \"./geojson/\""
   ]
  },
  {
   "cell_type": "code",
   "execution_count": 2,
   "metadata": {},
   "outputs": [],
   "source": [
    "files = glob.glob(f\"{DATA}municipios*\")"
   ]
  },
  {
   "cell_type": "code",
   "execution_count": 3,
   "metadata": {},
   "outputs": [
    {
     "data": {
      "text/plain": [
       "['./geojson\\\\municipios_canarias.geojson',\n",
       " './geojson\\\\municipios_peninsula.geojson']"
      ]
     },
     "execution_count": 3,
     "metadata": {},
     "output_type": "execute_result"
    }
   ],
   "source": [
    "files"
   ]
  },
  {
   "cell_type": "code",
   "execution_count": 4,
   "metadata": {},
   "outputs": [],
   "source": [
    "with open(files[0], \"r\") as test:\n",
    "    test2 = json.load(test)"
   ]
  },
  {
   "cell_type": "code",
   "execution_count": 5,
   "metadata": {},
   "outputs": [],
   "source": [
    "with open(f\"{DATA}/test.geojson\", \"w\", encoding=\"utf-8\") as fp:\n",
    "    json.dump(test2, fp)"
   ]
  },
  {
   "cell_type": "code",
   "execution_count": 6,
   "metadata": {},
   "outputs": [
    {
     "data": {
      "text/plain": [
       "True"
      ]
     },
     "execution_count": 6,
     "metadata": {},
     "output_type": "execute_result"
    }
   ],
   "source": [
    "with open(f\"{DATA}/test.geojson\", \"r\") as test:\n",
    "    test3 = json.load(test)\n",
    "test2 == test3\n"
   ]
  },
  {
   "cell_type": "code",
   "execution_count": 11,
   "metadata": {},
   "outputs": [],
   "source": [
    "with open(files[0], \"r\") as file:\n",
    "    merged_json = json.load(file)\n",
    "\n",
    "municipios = []\n",
    "for file in files:\n",
    "    with open(file, \"r\", encoding=\"utf8\") as json_file:\n",
    "        municipios.append(json.load(json_file)['features'])\n",
    "        \n",
    "merged_json['features'] = reduce(lambda a, b: a+b, municipios)"
   ]
  },
  {
   "cell_type": "code",
   "execution_count": 12,
   "metadata": {},
   "outputs": [],
   "source": [
    "with open(f\"{DATA}total_municipios.geojson\", \"w\") as fp:\n",
    "    json.dump(merged_json, fp)"
   ]
  },
  {
   "cell_type": "code",
   "execution_count": 13,
   "metadata": {},
   "outputs": [],
   "source": [
    "df = pd.DataFrame.from_records([elem['properties'] for elem in merged_json['features']])"
   ]
  },
  {
   "cell_type": "code",
   "execution_count": 14,
   "metadata": {},
   "outputs": [
    {
     "name": "stdout",
     "output_type": "stream",
     "text": [
      "<class 'pandas.core.frame.DataFrame'>\n",
      "RangeIndex: 8219 entries, 0 to 8218\n",
      "Data columns (total 14 columns):\n",
      " #   Column                    Non-Null Count  Dtype  \n",
      "---  ------                    --------------  -----  \n",
      " 0   comunidad_name            8219 non-null   object \n",
      " 1   comunidad_normalizedName  8219 non-null   object \n",
      " 2   normalizedName            8219 non-null   object \n",
      " 3   name                      8219 non-null   object \n",
      " 4   provincia_name            8219 non-null   object \n",
      " 5   comunidad_id              94 non-null     float64\n",
      " 6   provincia_normalizedName  8219 non-null   object \n",
      " 7   provincia_id              8219 non-null   int64  \n",
      " 8   id                        8219 non-null   int64  \n",
      " 9   comunidad_id_indra        8219 non-null   int64  \n",
      " 10  layer                     94 non-null     object \n",
      " 11  path                      94 non-null     object \n",
      " 12  fid                       8125 non-null   float64\n",
      " 13  comunida_id               8125 non-null   float64\n",
      "dtypes: float64(3), int64(3), object(8)\n",
      "memory usage: 899.1+ KB\n"
     ]
    }
   ],
   "source": [
    "df.info()"
   ]
  },
  {
   "cell_type": "code",
   "execution_count": 15,
   "metadata": {},
   "outputs": [
    {
     "data": {
      "text/html": [
       "<div>\n",
       "<style scoped>\n",
       "    .dataframe tbody tr th:only-of-type {\n",
       "        vertical-align: middle;\n",
       "    }\n",
       "\n",
       "    .dataframe tbody tr th {\n",
       "        vertical-align: top;\n",
       "    }\n",
       "\n",
       "    .dataframe thead th {\n",
       "        text-align: right;\n",
       "    }\n",
       "</style>\n",
       "<table border=\"1\" class=\"dataframe\">\n",
       "  <thead>\n",
       "    <tr style=\"text-align: right;\">\n",
       "      <th></th>\n",
       "      <th>comunidad_name</th>\n",
       "      <th>comunidad_normalizedName</th>\n",
       "      <th>normalizedName</th>\n",
       "      <th>name</th>\n",
       "      <th>provincia_name</th>\n",
       "      <th>comunidad_id</th>\n",
       "      <th>provincia_normalizedName</th>\n",
       "      <th>provincia_id</th>\n",
       "      <th>id</th>\n",
       "      <th>comunidad_id_indra</th>\n",
       "      <th>layer</th>\n",
       "      <th>path</th>\n",
       "      <th>fid</th>\n",
       "      <th>comunida_id</th>\n",
       "    </tr>\n",
       "  </thead>\n",
       "  <tbody>\n",
       "    <tr>\n",
       "      <th>0</th>\n",
       "      <td>Canarias</td>\n",
       "      <td>canarias</td>\n",
       "      <td>agaete</td>\n",
       "      <td>Agaete</td>\n",
       "      <td>Las Palmas</td>\n",
       "      <td>5.0</td>\n",
       "      <td>las-palmas</td>\n",
       "      <td>35</td>\n",
       "      <td>1</td>\n",
       "      <td>5</td>\n",
       "      <td>las-palmas provincias_peninsula</td>\n",
       "      <td>E:/eclipse-rtve/rtve-app-elecciones/public/mul...</td>\n",
       "      <td>NaN</td>\n",
       "      <td>NaN</td>\n",
       "    </tr>\n",
       "    <tr>\n",
       "      <th>1</th>\n",
       "      <td>Canarias</td>\n",
       "      <td>canarias</td>\n",
       "      <td>aguimes</td>\n",
       "      <td>Agüimes</td>\n",
       "      <td>Las Palmas</td>\n",
       "      <td>5.0</td>\n",
       "      <td>las-palmas</td>\n",
       "      <td>35</td>\n",
       "      <td>2</td>\n",
       "      <td>5</td>\n",
       "      <td>las-palmas provincias_peninsula</td>\n",
       "      <td>E:/eclipse-rtve/rtve-app-elecciones/public/mul...</td>\n",
       "      <td>NaN</td>\n",
       "      <td>NaN</td>\n",
       "    </tr>\n",
       "    <tr>\n",
       "      <th>2</th>\n",
       "      <td>Canarias</td>\n",
       "      <td>canarias</td>\n",
       "      <td>antigua</td>\n",
       "      <td>Antigua</td>\n",
       "      <td>Las Palmas</td>\n",
       "      <td>5.0</td>\n",
       "      <td>las-palmas</td>\n",
       "      <td>35</td>\n",
       "      <td>3</td>\n",
       "      <td>5</td>\n",
       "      <td>las-palmas provincias_peninsula</td>\n",
       "      <td>E:/eclipse-rtve/rtve-app-elecciones/public/mul...</td>\n",
       "      <td>NaN</td>\n",
       "      <td>NaN</td>\n",
       "    </tr>\n",
       "    <tr>\n",
       "      <th>3</th>\n",
       "      <td>Canarias</td>\n",
       "      <td>canarias</td>\n",
       "      <td>arrecife</td>\n",
       "      <td>Arrecife</td>\n",
       "      <td>Las Palmas</td>\n",
       "      <td>5.0</td>\n",
       "      <td>las-palmas</td>\n",
       "      <td>35</td>\n",
       "      <td>4</td>\n",
       "      <td>5</td>\n",
       "      <td>las-palmas provincias_peninsula</td>\n",
       "      <td>E:/eclipse-rtve/rtve-app-elecciones/public/mul...</td>\n",
       "      <td>NaN</td>\n",
       "      <td>NaN</td>\n",
       "    </tr>\n",
       "    <tr>\n",
       "      <th>4</th>\n",
       "      <td>Canarias</td>\n",
       "      <td>canarias</td>\n",
       "      <td>artenara</td>\n",
       "      <td>Artenara</td>\n",
       "      <td>Las Palmas</td>\n",
       "      <td>5.0</td>\n",
       "      <td>las-palmas</td>\n",
       "      <td>35</td>\n",
       "      <td>5</td>\n",
       "      <td>5</td>\n",
       "      <td>las-palmas provincias_peninsula</td>\n",
       "      <td>E:/eclipse-rtve/rtve-app-elecciones/public/mul...</td>\n",
       "      <td>NaN</td>\n",
       "      <td>NaN</td>\n",
       "    </tr>\n",
       "  </tbody>\n",
       "</table>\n",
       "</div>"
      ],
      "text/plain": [
       "  comunidad_name comunidad_normalizedName normalizedName      name  \\\n",
       "0       Canarias                 canarias         agaete    Agaete   \n",
       "1       Canarias                 canarias        aguimes   Agüimes   \n",
       "2       Canarias                 canarias        antigua   Antigua   \n",
       "3       Canarias                 canarias       arrecife  Arrecife   \n",
       "4       Canarias                 canarias       artenara  Artenara   \n",
       "\n",
       "  provincia_name  comunidad_id provincia_normalizedName  provincia_id  id  \\\n",
       "0     Las Palmas           5.0               las-palmas            35   1   \n",
       "1     Las Palmas           5.0               las-palmas            35   2   \n",
       "2     Las Palmas           5.0               las-palmas            35   3   \n",
       "3     Las Palmas           5.0               las-palmas            35   4   \n",
       "4     Las Palmas           5.0               las-palmas            35   5   \n",
       "\n",
       "   comunidad_id_indra                            layer  \\\n",
       "0                   5  las-palmas provincias_peninsula   \n",
       "1                   5  las-palmas provincias_peninsula   \n",
       "2                   5  las-palmas provincias_peninsula   \n",
       "3                   5  las-palmas provincias_peninsula   \n",
       "4                   5  las-palmas provincias_peninsula   \n",
       "\n",
       "                                                path  fid  comunida_id  \n",
       "0  E:/eclipse-rtve/rtve-app-elecciones/public/mul...  NaN          NaN  \n",
       "1  E:/eclipse-rtve/rtve-app-elecciones/public/mul...  NaN          NaN  \n",
       "2  E:/eclipse-rtve/rtve-app-elecciones/public/mul...  NaN          NaN  \n",
       "3  E:/eclipse-rtve/rtve-app-elecciones/public/mul...  NaN          NaN  \n",
       "4  E:/eclipse-rtve/rtve-app-elecciones/public/mul...  NaN          NaN  "
      ]
     },
     "execution_count": 15,
     "metadata": {},
     "output_type": "execute_result"
    }
   ],
   "source": [
    "df.head()"
   ]
  },
  {
   "cell_type": "code",
   "execution_count": null,
   "metadata": {},
   "outputs": [],
   "source": []
  }
 ],
 "metadata": {
  "kernelspec": {
   "display_name": "Python 3",
   "language": "python",
   "name": "python3"
  },
  "language_info": {
   "codemirror_mode": {
    "name": "ipython",
    "version": 3
   },
   "file_extension": ".py",
   "mimetype": "text/x-python",
   "name": "python",
   "nbconvert_exporter": "python",
   "pygments_lexer": "ipython3",
   "version": "3.7.6"
  }
 },
 "nbformat": 4,
 "nbformat_minor": 5
}
