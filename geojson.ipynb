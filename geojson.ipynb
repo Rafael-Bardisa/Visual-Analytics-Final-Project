{
 "cells": [
  {
   "cell_type": "code",
   "execution_count": 1,
   "id": "9140bac8-f0f6-4840-85c0-c2fd61de2515",
   "metadata": {},
   "outputs": [],
   "source": [
    "import pandas as pd\n",
    "import glob\n",
    "import utils\n",
    "import json\n",
    "from functools import reduce\n",
    "from unidecode import unidecode\n",
    "\n",
    "DATA = \"./geojson/\"\n",
    "CSV = \"./csv/\""
   ]
  },
  {
   "cell_type": "code",
   "execution_count": 2,
   "id": "ad3ad672-0f7a-4559-9d87-b7bcf81dcfb5",
   "metadata": {},
   "outputs": [],
   "source": [
    "files = glob.glob(f\"{DATA}municipios*\")"
   ]
  },
  {
   "cell_type": "code",
   "execution_count": 3,
   "id": "6a875b40-fa99-4256-9005-81d8f824933a",
   "metadata": {},
   "outputs": [
    {
     "data": {
      "text/plain": [
       "['./geojson/municipios_canarias.geojson',\n",
       " './geojson/municipios_peninsula.geojson']"
      ]
     },
     "execution_count": 3,
     "metadata": {},
     "output_type": "execute_result"
    }
   ],
   "source": [
    "files"
   ]
  },
  {
   "cell_type": "code",
   "execution_count": 4,
   "id": "3b07c96e-1365-4b8c-abb9-f8031f7476a1",
   "metadata": {},
   "outputs": [],
   "source": [
    "with open(files[0], \"r\") as test:\n",
    "    test2 = json.load(test)"
   ]
  },
  {
   "cell_type": "code",
   "execution_count": 5,
   "id": "9071357f-3087-4f4a-a861-088775cae459",
   "metadata": {},
   "outputs": [],
   "source": [
    "with open(f\"{DATA}/test.geojson\", \"w\", encoding=\"utf-8\") as fp:\n",
    "    json.dump(test2, fp)"
   ]
  },
  {
   "cell_type": "code",
   "execution_count": 6,
   "id": "6841b6ae-1989-4bf0-9868-51e084f5d63a",
   "metadata": {},
   "outputs": [
    {
     "data": {
      "text/plain": [
       "True"
      ]
     },
     "execution_count": 6,
     "metadata": {},
     "output_type": "execute_result"
    }
   ],
   "source": [
    "with open(f\"{DATA}/test.geojson\", \"r\") as test:\n",
    "    test3 = json.load(test)\n",
    "test2 == test3\n"
   ]
  },
  {
   "cell_type": "code",
   "execution_count": 7,
   "id": "1e869733-3278-4d77-a379-ecb5dea3d05f",
   "metadata": {},
   "outputs": [],
   "source": [
    "with open(files[0], \"r\") as file:\n",
    "    merged_json = json.load(file)\n",
    "\n",
    "municipios = []\n",
    "for file in files:\n",
    "    with open(file, \"r\") as json_file:\n",
    "        municipios.append(json.load(json_file)['features'])\n",
    "        \n",
    "merged_json['features'] = reduce(lambda a, b: a+b, municipios)"
   ]
  },
  {
   "cell_type": "code",
   "execution_count": 8,
   "id": "f8ed9dcd-5d5f-4b0d-8ec4-f20954bd4cdd",
   "metadata": {},
   "outputs": [],
   "source": [
    "with open(f\"{DATA}total_municipios.geojson\", \"w\") as fp:\n",
    "    json.dump(merged_json, fp)"
   ]
  },
  {
   "cell_type": "code",
   "execution_count": 9,
   "id": "19514838-6fc9-452f-9fe7-976ac14f0d8f",
   "metadata": {},
   "outputs": [],
   "source": [
    "df = pd.DataFrame.from_records([elem['properties'] for elem in merged_json['features']])\n",
    "df.comunidad_id = df.comunidad_id.fillna(0) + df.comunida_id.fillna(0)"
   ]
  },
  {
   "cell_type": "code",
   "execution_count": 10,
   "id": "35957c20-5b08-44b9-bdcc-8a37fa4c9944",
   "metadata": {},
   "outputs": [
    {
     "name": "stdout",
     "output_type": "stream",
     "text": [
      "<class 'pandas.core.frame.DataFrame'>\n",
      "RangeIndex: 8219 entries, 0 to 8218\n",
      "Data columns (total 14 columns):\n",
      " #   Column                    Non-Null Count  Dtype  \n",
      "---  ------                    --------------  -----  \n",
      " 0   comunidad_name            8219 non-null   object \n",
      " 1   comunidad_normalizedName  8219 non-null   object \n",
      " 2   normalizedName            8219 non-null   object \n",
      " 3   name                      8219 non-null   object \n",
      " 4   provincia_name            8219 non-null   object \n",
      " 5   comunidad_id              8219 non-null   float64\n",
      " 6   provincia_normalizedName  8219 non-null   object \n",
      " 7   provincia_id              8219 non-null   int64  \n",
      " 8   id                        8219 non-null   int64  \n",
      " 9   comunidad_id_indra        8219 non-null   int64  \n",
      " 10  layer                     94 non-null     object \n",
      " 11  path                      94 non-null     object \n",
      " 12  fid                       8125 non-null   float64\n",
      " 13  comunida_id               8125 non-null   float64\n",
      "dtypes: float64(3), int64(3), object(8)\n",
      "memory usage: 899.1+ KB\n"
     ]
    }
   ],
   "source": [
    "df.info()"
   ]
  },
  {
   "cell_type": "code",
   "execution_count": 11,
   "id": "878eb200-7f49-4ff7-9f42-9561ae150d74",
   "metadata": {},
   "outputs": [
    {
     "data": {
      "text/plain": [
       "0           agaete\n",
       "1          aguimes\n",
       "2          antigua\n",
       "3         arrecife\n",
       "4         artenara\n",
       "           ...    \n",
       "8214    vistabella\n",
       "8215      zaida-la\n",
       "8216      zaragoza\n",
       "8217         zuera\n",
       "8218          biel\n",
       "Name: normalizedName, Length: 8219, dtype: object"
      ]
     },
     "execution_count": 11,
     "metadata": {},
     "output_type": "execute_result"
    }
   ],
   "source": [
    "df.normalizedName"
   ]
  },
  {
   "cell_type": "code",
   "execution_count": 12,
   "id": "44f70cd9-e713-4fc9-8bbb-315a5fdd0317",
   "metadata": {},
   "outputs": [
    {
     "name": "stdout",
     "output_type": "stream",
     "text": [
      "<class 'pandas.core.frame.DataFrame'>\n",
      "RangeIndex: 8131 entries, 0 to 8130\n",
      "Data columns (total 83 columns):\n",
      " #   Column                     Non-Null Count  Dtype \n",
      "---  ------                     --------------  ----- \n",
      " 0   Unnamed: 0                 8131 non-null   int64 \n",
      " 1   Nombre de Comunidad        8131 non-null   object\n",
      " 2   Código de Provincia        8131 non-null   int64 \n",
      " 3   Nombre de Provincia        8131 non-null   object\n",
      " 4   Código de Municipio        8131 non-null   int64 \n",
      " 5   Nombre de Municipio        8131 non-null   object\n",
      " 6   Población                  8131 non-null   int64 \n",
      " 7   Número de mesas            8131 non-null   int64 \n",
      " 8   Total censo electoral      8131 non-null   int64 \n",
      " 9   Total votantes             8131 non-null   int64 \n",
      " 10  Votos válidos              8131 non-null   int64 \n",
      " 11  Votos a candidaturas       8131 non-null   int64 \n",
      " 12  Votos en blanco            8131 non-null   int64 \n",
      " 13  Votos nulos                8131 non-null   int64 \n",
      " 14  PSOE                       8131 non-null   int64 \n",
      " 15  PP                         8131 non-null   int64 \n",
      " 16  VOX                        8131 non-null   int64 \n",
      " 17  PODEMOS-IU                 8131 non-null   int64 \n",
      " 18  ERC-SOBIRANISTES           8131 non-null   int64 \n",
      " 19  CS                         8131 non-null   int64 \n",
      " 20  JXCAT-JUNTS                8131 non-null   int64 \n",
      " 21  ECP-GUANYEM EL CANVI       8131 non-null   int64 \n",
      " 22  EAJ-PNV                    8131 non-null   int64 \n",
      " 23  EH BILDU                   8131 non-null   int64 \n",
      " 24  MÁS PAÍS-EQUO              8131 non-null   int64 \n",
      " 25  CUP-PR                     8131 non-null   int64 \n",
      " 26  PODEMOS-EU                 8131 non-null   int64 \n",
      " 27  CCA-PNC-NC                 8131 non-null   int64 \n",
      " 28  NA+                        8131 non-null   int64 \n",
      " 29  MÉS COMPROMÍS              8131 non-null   int64 \n",
      " 30  BNG                        8131 non-null   int64 \n",
      " 31  PRC                        8131 non-null   int64 \n",
      " 32  ¡TERUEL EXISTE!            8131 non-null   int64 \n",
      " 33  PACMA                      8131 non-null   int64 \n",
      " 34  MÁS PAÍS                   8131 non-null   int64 \n",
      " 35  RECORTES CERO-GV           8131 non-null   int64 \n",
      " 36  PUM+J                      8131 non-null   int64 \n",
      " 37  M PAÍS-CHA-EQUO            8131 non-null   int64 \n",
      " 38  MÉS-ESQUERRA               8131 non-null   int64 \n",
      " 39  AXSÍ                       8131 non-null   int64 \n",
      " 40  PCPE                       8131 non-null   int64 \n",
      " 41  PCTE                       8131 non-null   int64 \n",
      " 42  GBAI                       8131 non-null   int64 \n",
      " 43  UPL                        8131 non-null   int64 \n",
      " 44  PCOE                       8131 non-null   int64 \n",
      " 45  CPM                        8131 non-null   int64 \n",
      " 46  EB                         8131 non-null   int64 \n",
      " 47  ERPV                       8131 non-null   int64 \n",
      " 48  XAV                        8131 non-null   int64 \n",
      " 49  AVANT ADELANTE LOS VERDES  8131 non-null   int64 \n",
      " 50  VERDES                     8131 non-null   int64 \n",
      " 51  PH                         8131 non-null   int64 \n",
      " 52  I.FEM                      8131 non-null   int64 \n",
      " 53  UIG-SOM-CUIDES             8131 non-null   int64 \n",
      " 54  SOMOS REGIÓN               8131 non-null   int64 \n",
      " 55  IZQP                       8131 non-null   int64 \n",
      " 56  AHORA CANARIAS             8131 non-null   int64 \n",
      " 57  CONTIGO                    8131 non-null   int64 \n",
      " 58  CHA                        8131 non-null   int64 \n",
      " 59  PPSO                       8131 non-null   int64 \n",
      " 60  EXTREMADURA UNIDA          8131 non-null   int64 \n",
      " 61  PDSJE                      8131 non-null   int64 \n",
      " 62  P-LIB                      8131 non-null   int64 \n",
      " 63  MAS                        8131 non-null   int64 \n",
      " 64  UNIDOS SÍ-ACPS-DEF         8131 non-null   int64 \n",
      " 65  PREPAL                     8131 non-null   int64 \n",
      " 66  ANDECHA                    8131 non-null   int64 \n",
      " 67  MDYC                       8131 non-null   int64 \n",
      " 68  PYLN                       8131 non-null   int64 \n",
      " 69  FE DE LAS JONS             8131 non-null   int64 \n",
      " 70  AUNACV                     8131 non-null   int64 \n",
      " 71  UNIÓN REGIONALISTA         8131 non-null   int64 \n",
      " 72  CANDA                      8131 non-null   int64 \n",
      " 73  FIA                        8131 non-null   int64 \n",
      " 74  SOLIDARIA                  8131 non-null   int64 \n",
      " 75  RISA                       8131 non-null   int64 \n",
      " 76  CENTRADOS                  8131 non-null   int64 \n",
      " 77  DPL                        8131 non-null   int64 \n",
      " 78  IZAR                       8131 non-null   int64 \n",
      " 79  C 21                       8131 non-null   int64 \n",
      " 80  UDT                        8131 non-null   int64 \n",
      " 81  Popular                    8131 non-null   object\n",
      " 82  Popular votos              8131 non-null   int64 \n",
      "dtypes: int64(79), object(4)\n",
      "memory usage: 5.1+ MB\n"
     ]
    }
   ],
   "source": [
    "votos = pd.read_csv(f\"{CSV}02_201911_1_treat.csv\")\n",
    "votos.info()"
   ]
  },
  {
   "cell_type": "code",
   "execution_count": 13,
   "id": "249c0020-2ac9-4d79-be48-9c87077c30b0",
   "metadata": {},
   "outputs": [],
   "source": [
    "votos[\"Nombre Normalizado\"] = votos[\"Nombre de Municipio\"].apply(utils.rtve_norm)"
   ]
  },
  {
   "cell_type": "code",
   "execution_count": 14,
   "id": "6d0ac695-b30e-4f6f-91ff-2394c03eb689",
   "metadata": {},
   "outputs": [
    {
     "data": {
      "text/plain": [
       "True"
      ]
     },
     "execution_count": 14,
     "metadata": {},
     "output_type": "execute_result"
    }
   ],
   "source": [
    "\"vilanova-i-la-geltru\" in list(votos[\"Nombre Normalizado\"])\n",
    "\"vilanova-i-la-geltru\" in list(df[\"normalizedName\"])"
   ]
  },
  {
   "cell_type": "code",
   "execution_count": null,
   "id": "f0b48e24-b2d7-4622-b9d8-638600c03618",
   "metadata": {},
   "outputs": [],
   "source": []
  },
  {
   "cell_type": "code",
   "execution_count": 15,
   "id": "e0173eb4-ed50-47db-b738-236c71cc6a5b",
   "metadata": {},
   "outputs": [],
   "source": [
    "def municipio_check(muni):\n",
    "    return(muni in list(votos['Nombre Normalizado']), muni in list(df['normalizedName']))"
   ]
  },
  {
   "cell_type": "code",
   "execution_count": 16,
   "id": "906be4a3-8168-4e67-a570-67598e323996",
   "metadata": {},
   "outputs": [
    {
     "data": {
      "text/plain": [
       "(False, False)"
      ]
     },
     "execution_count": 16,
     "metadata": {},
     "output_type": "execute_result"
    }
   ],
   "source": [
    "municipio_check(\"el-papiol\")"
   ]
  },
  {
   "cell_type": "code",
   "execution_count": 17,
   "id": "18da3894-1ea8-4e2c-b3d7-c137b78b0c4a",
   "metadata": {},
   "outputs": [
    {
     "name": "stdout",
     "output_type": "stream",
     "text": [
      "vilaflor\n",
      "adsubia\n",
      "alcoy-alcoi\n",
      "alicante-alacant\n",
      "benitachell-poble-nou-de-benitatxell-el\n",
      "villajoyosa-vila-joiosa-la\n",
      "campo-de-mirra-camp-de-mirra-el\n",
      "elche-elx\n",
      "fondo-de-les-neus-el-hondon-de-las-nieves\n",
      "javea-xabia\n",
      "jijona-xixona\n",
      "lorcha-orxa-l\n",
      "monovar-monover\n",
      "pinos-el-pinoso\n",
      "san-vicente-del-raspeig-sant-vicent-del-raspeig\n",
      "torremanzanas-torre-de-les-macanes-la\n",
      "Balanegra\n",
      "banos-de-ebro-manueta\n",
      "ribera-baja-erribera-beitia\n",
      "ayala-aiara\n",
      "campezo-kanpezu\n",
      "elvillar-bilar\n",
      "lanciego-lantziego\n",
      "elburgo-burgelu\n",
      "labastida-bastida\n",
      "laudio-llodio\n",
      "moreda-de-alava-moreda-araba\n",
      "erriberagoitia-ribera-alta\n",
      "salvatierra-agurain\n",
      "san-millan-donemiliaga\n",
      "valdegovia-gaubea\n",
      "harana-valle-de-arana\n",
      "villabuena-de-alava-eskuernaga\n",
      "yecora-iekora\n",
      "iruna-oka-iruna-de-oca\n",
      "ametlla-del-valles-l\n",
      "espunyola-l\n",
      "estany-l\n",
      "hospitalet-de-llobregat-l\n",
      "santa-maria-de-corco\n",
      "urduna-orduna\n",
      "sopelana\n",
      "karrantza-harana-valle-de-carranza\n",
      "UNK\n",
      "UNK\n",
      "UNK\n",
      "UNK\n",
      "castrillo-matajudios\n",
      "UNK\n",
      "UNK\n",
      "UNK\n",
      "UNK\n",
      "UNK\n",
      "almazora-almassora\n",
      "benasal\n",
      "benicasim-benicassim\n",
      "benlloch\n",
      "borriana-burriana\n",
      "castellon-de-la-plana-castello-de-la-plana\n",
      "chodos-xodos\n",
      "chert-xert\n",
      "chilches-xilxes\n",
      "lucena-del-cid\n",
      "oropesa-del-mar-orpesa\n",
      "peniscola-peniscola\n",
      "sant-jordi-san-jorge\n",
      "sueras-suera\n",
      "useras-useres-les\n",
      "vistabella-del-maestrazgo\n",
      "villafranca-del-cid-vilafranca\n",
      "alquerias-del-nino-perdido\n",
      "UNK\n",
      "UNK\n",
      "bidegoian\n",
      "soraluze-placencia-de-las-armas\n",
      "arrasate-mondragon\n",
      "donostia-san-sebastian\n",
      "UNK\n",
      "armentera-l\n",
      "brunyola\n",
      "calonge\n",
      "escala-l\n",
      "saus-camallera-i-llampaies\n",
      "cruilles-monells-i-sant-sadurni-de-lheura\n",
      "UNK\n",
      "UNK\n",
      "la-zarza-perrunal\n",
      "torla\n",
      "palma-de-mallorca\n",
      "pobla-sa\n",
      "salines-ses\n",
      "santa-eulalia-del-rio\n",
      "torre-del-campo\n",
      "albages-l\n",
      "albi-l\n",
      "espluga-calba-l\n",
      "izalzu-itzaltzu\n",
      "monreal-elo\n",
      "leache-leatxe\n",
      "oronz-orontze\n",
      "oroz-betelu-orotz-betelu\n",
      "salinas-de-oro-jaitz\n",
      "unzue-untzue\n",
      "urdazubi-urdax\n",
      "altsasu-alsasua\n",
      "huarte-uharte\n",
      "atez-atetz\n",
      "ayegui-aiegi\n",
      "aoiz-agoitz\n",
      "aranarache-aranaratxe\n",
      "auritz-burguete\n",
      "abarzuza-abartzuza\n",
      "aibar-oibar\n",
      "abaurregaina-abaurrea-alta\n",
      "abaurrepea-abaurrea-baja\n",
      "allin-allin\n",
      "ancin-antzin\n",
      "ansoain-antsoain\n",
      "burgui-burgi\n",
      "burlada-burlata\n",
      "arce-artzi\n",
      "gallipienzo-galipentzu\n",
      "cirauqui-zirauki\n",
      "ciriza-ziritza\n",
      "ochagavia-otsagabia\n",
      "egues\n",
      "noain-valle-de-elorz-noain-elortzibar\n",
      "eneriz-eneritz\n",
      "ezcaroz-ezkaroze\n",
      "esparza-de-salazar-espartza-zaraitzu\n",
      "gallues-galoze\n",
      "guesa-gorza\n",
      "guesalaz-gesalatz\n",
      "isaba-izaba\n",
      "iza-itza\n",
      "oitz\n",
      "leoz-leotz\n",
      "longuida-longida\n",
      "navascues-nabaskoze\n",
      "olazti-olazagutia\n",
      "oloriz-oloritz\n",
      "olite-erriberri\n",
      "cendea-de-olza-oltza-zendea\n",
      "ollo\n",
      "pamplona-iruna\n",
      "peralta-azkoien\n",
      "puente-la-reina-gares\n",
      "roncal-erronkari\n",
      "orreaga-roncesvalles\n",
      "sanguesa-zangoza\n",
      "doneztebe-santesteban\n",
      "sarries-sartze\n",
      "zabalza-zabaltza\n",
      "urrotz\n",
      "urzainqui-urzainki\n",
      "uztarroz-uztarroze\n",
      "luzaide-valcarlos\n",
      "hiriberri-villanueva-de-aezkoa\n",
      "vidangoz-bidankoze\n",
      "villava-atarrabia\n",
      "valle-de-yerri-deierri\n",
      "berrioplano-berriobeiti\n",
      "zizur-mayor-zizur-nagusia\n",
      "burgui-burgi\n",
      "burlada-burlata\n",
      "blancos-os\n",
      "UNK\n",
      "pradales\n",
      "lantejuela-la\n",
      "UNK\n",
      "albiol-l\n",
      "aleixar-l\n",
      "ametlla-de-mar-l\n",
      "arboc-l\n",
      "argentera-l\n",
      "espluga-de-francoli-l\n",
      "aldea-l\n",
      "ampolla-l\n",
      "real-de-gandia\n",
      "sagunto-sagunt\n",
      "alboraya\n",
      "algimia-de-alfara\n",
      "benisano\n",
      "benisuera\n",
      "genoves\n",
      "genoves\n",
      "mogente-moixent\n",
      "montitxelvo-montichelvo\n",
      "montroi-montroy\n",
      "novele-novetle\n",
      "vilallonga-villalonga\n",
      "jarque\n"
     ]
    }
   ],
   "source": [
    "for muni in list(df['normalizedName']):\n",
    "    if not all(municipio_check(muni)):\n",
    "        print(muni)"
   ]
  },
  {
   "cell_type": "code",
   "execution_count": 23,
   "id": "cf84526c-d566-4028-9d4b-41a2bd9796e0",
   "metadata": {},
   "outputs": [
    {
     "name": "stdout",
     "output_type": "stream",
     "text": [
      "<class 'pandas.core.frame.DataFrame'>\n",
      "Int64Index: 8254 entries, 0 to 8253\n",
      "Data columns (total 98 columns):\n",
      " #   Column                     Non-Null Count  Dtype  \n",
      "---  ------                     --------------  -----  \n",
      " 0   comunidad_name             8254 non-null   object \n",
      " 1   comunidad_normalizedName   8254 non-null   object \n",
      " 2   normalizedName             8254 non-null   object \n",
      " 3   name                       8254 non-null   object \n",
      " 4   provincia_name             8254 non-null   object \n",
      " 5   comunidad_id               8254 non-null   float64\n",
      " 6   provincia_normalizedName   8254 non-null   object \n",
      " 7   provincia_id               8254 non-null   int64  \n",
      " 8   id                         8254 non-null   int64  \n",
      " 9   comunidad_id_indra         8254 non-null   int64  \n",
      " 10  layer                      95 non-null     object \n",
      " 11  path                       95 non-null     object \n",
      " 12  fid                        8159 non-null   float64\n",
      " 13  comunida_id                8159 non-null   float64\n",
      " 14  Unnamed: 0                 8062 non-null   float64\n",
      " 15  Nombre de Comunidad        8062 non-null   object \n",
      " 16  Código de Provincia        8062 non-null   float64\n",
      " 17  Nombre de Provincia        8062 non-null   object \n",
      " 18  Código de Municipio        8062 non-null   float64\n",
      " 19  Nombre de Municipio        8062 non-null   object \n",
      " 20  Población                  8062 non-null   float64\n",
      " 21  Número de mesas            8062 non-null   float64\n",
      " 22  Total censo electoral      8062 non-null   float64\n",
      " 23  Total votantes             8062 non-null   float64\n",
      " 24  Votos válidos              8062 non-null   float64\n",
      " 25  Votos a candidaturas       8062 non-null   float64\n",
      " 26  Votos en blanco            8062 non-null   float64\n",
      " 27  Votos nulos                8062 non-null   float64\n",
      " 28  PSOE                       8062 non-null   float64\n",
      " 29  PP                         8062 non-null   float64\n",
      " 30  VOX                        8062 non-null   float64\n",
      " 31  PODEMOS-IU                 8062 non-null   float64\n",
      " 32  ERC-SOBIRANISTES           8062 non-null   float64\n",
      " 33  CS                         8062 non-null   float64\n",
      " 34  JXCAT-JUNTS                8062 non-null   float64\n",
      " 35  ECP-GUANYEM EL CANVI       8062 non-null   float64\n",
      " 36  EAJ-PNV                    8062 non-null   float64\n",
      " 37  EH BILDU                   8062 non-null   float64\n",
      " 38  MÁS PAÍS-EQUO              8062 non-null   float64\n",
      " 39  CUP-PR                     8062 non-null   float64\n",
      " 40  PODEMOS-EU                 8062 non-null   float64\n",
      " 41  CCA-PNC-NC                 8062 non-null   float64\n",
      " 42  NA+                        8062 non-null   float64\n",
      " 43  MÉS COMPROMÍS              8062 non-null   float64\n",
      " 44  BNG                        8062 non-null   float64\n",
      " 45  PRC                        8062 non-null   float64\n",
      " 46  ¡TERUEL EXISTE!            8062 non-null   float64\n",
      " 47  PACMA                      8062 non-null   float64\n",
      " 48  MÁS PAÍS                   8062 non-null   float64\n",
      " 49  RECORTES CERO-GV           8062 non-null   float64\n",
      " 50  PUM+J                      8062 non-null   float64\n",
      " 51  M PAÍS-CHA-EQUO            8062 non-null   float64\n",
      " 52  MÉS-ESQUERRA               8062 non-null   float64\n",
      " 53  AXSÍ                       8062 non-null   float64\n",
      " 54  PCPE                       8062 non-null   float64\n",
      " 55  PCTE                       8062 non-null   float64\n",
      " 56  GBAI                       8062 non-null   float64\n",
      " 57  UPL                        8062 non-null   float64\n",
      " 58  PCOE                       8062 non-null   float64\n",
      " 59  CPM                        8062 non-null   float64\n",
      " 60  EB                         8062 non-null   float64\n",
      " 61  ERPV                       8062 non-null   float64\n",
      " 62  XAV                        8062 non-null   float64\n",
      " 63  AVANT ADELANTE LOS VERDES  8062 non-null   float64\n",
      " 64  VERDES                     8062 non-null   float64\n",
      " 65  PH                         8062 non-null   float64\n",
      " 66  I.FEM                      8062 non-null   float64\n",
      " 67  UIG-SOM-CUIDES             8062 non-null   float64\n",
      " 68  SOMOS REGIÓN               8062 non-null   float64\n",
      " 69  IZQP                       8062 non-null   float64\n",
      " 70  AHORA CANARIAS             8062 non-null   float64\n",
      " 71  CONTIGO                    8062 non-null   float64\n",
      " 72  CHA                        8062 non-null   float64\n",
      " 73  PPSO                       8062 non-null   float64\n",
      " 74  EXTREMADURA UNIDA          8062 non-null   float64\n",
      " 75  PDSJE                      8062 non-null   float64\n",
      " 76  P-LIB                      8062 non-null   float64\n",
      " 77  MAS                        8062 non-null   float64\n",
      " 78  UNIDOS SÍ-ACPS-DEF         8062 non-null   float64\n",
      " 79  PREPAL                     8062 non-null   float64\n",
      " 80  ANDECHA                    8062 non-null   float64\n",
      " 81  MDYC                       8062 non-null   float64\n",
      " 82  PYLN                       8062 non-null   float64\n",
      " 83  FE DE LAS JONS             8062 non-null   float64\n",
      " 84  AUNACV                     8062 non-null   float64\n",
      " 85  UNIÓN REGIONALISTA         8062 non-null   float64\n",
      " 86  CANDA                      8062 non-null   float64\n",
      " 87  FIA                        8062 non-null   float64\n",
      " 88  SOLIDARIA                  8062 non-null   float64\n",
      " 89  RISA                       8062 non-null   float64\n",
      " 90  CENTRADOS                  8062 non-null   float64\n",
      " 91  DPL                        8062 non-null   float64\n",
      " 92  IZAR                       8062 non-null   float64\n",
      " 93  C 21                       8062 non-null   float64\n",
      " 94  UDT                        8062 non-null   float64\n",
      " 95  Popular                    8062 non-null   object \n",
      " 96  Popular votos              8062 non-null   float64\n",
      " 97  Nombre Normalizado         8062 non-null   object \n",
      "dtypes: float64(82), int64(3), object(13)\n",
      "memory usage: 6.2+ MB\n"
     ]
    }
   ],
   "source": [
    "test_df = df.merge(votos, how=\"left\", left_on=\"normalizedName\", right_on=\"Nombre Normalizado\")\n",
    "test_df.info()"
   ]
  },
  {
   "cell_type": "code",
   "execution_count": 27,
   "id": "70698d04-f1b6-4502-9aa6-d902cdfb8abc",
   "metadata": {},
   "outputs": [],
   "source": [
    "test_json = json.loads(test_df.to_json(orient=\"records\"))"
   ]
  },
  {
   "cell_type": "code",
   "execution_count": 31,
   "id": "fa520794-4a2f-4831-b9c3-93ee8563f2d4",
   "metadata": {},
   "outputs": [],
   "source": [
    "def new_muni(muni_list, muni_name):\n",
    "    \"\"\"\n",
    "    find city whose name matches\n",
    "    \"\"\"\n",
    "    for muni in muni_list:\n",
    "        if muni[\"normalizedName\"] == muni_name:\n",
    "            return muni\n",
    "    return None"
   ]
  },
  {
   "cell_type": "code",
   "execution_count": null,
   "id": "23fdc971-031f-4cde-87b4-1b7dc332d609",
   "metadata": {},
   "outputs": [],
   "source": [
    "def replace_muni(muni_list, muni_new_list):\n",
    "    for muni in muni_list[\"features\"]:\n",
    "        \n",
    "        muni_name = muni[\"properties\"][\"normalizedName\"]\n",
    "        \n",
    "        replace_muni = new_muni(muni_new_list, muni_name)\n",
    "        \n",
    "        muni[\"properties\"] = replace_muni if replace_muni else muni[\""
   ]
  },
  {
   "cell_type": "code",
   "execution_count": 29,
   "id": "d64d003f-c407-40ee-be86-60ee92d10f7a",
   "metadata": {},
   "outputs": [
    {
     "data": {
      "text/plain": [
       "{'comunidad_name': 'Canarias',\n",
       " 'comunidad_normalizedName': 'canarias',\n",
       " 'normalizedName': 'adeje',\n",
       " 'name': 'Adeje',\n",
       " 'provincia_name': 'Santa Cruz de Tenerife',\n",
       " 'comunidad_id': 5,\n",
       " 'provincia_normalizedName': 'santa-cruz-de-tenerife',\n",
       " 'provincia_id': 38,\n",
       " 'id': 1,\n",
       " 'comunidad_id_indra': 5,\n",
       " 'layer': 'santa-cruz-de-tenerife provincias_peninsula',\n",
       " 'path': 'E:/eclipse-rtve/rtve-app-elecciones/public/multimedia/mapas/provincias/santa-cruz-de-tenerife.geojson'}"
      ]
     },
     "execution_count": 29,
     "metadata": {},
     "output_type": "execute_result"
    }
   ],
   "source": [
    "merged_json['features'][37][\"properties\"]"
   ]
  },
  {
   "cell_type": "code",
   "execution_count": 30,
   "id": "ddbc5b34-ce69-466c-b1d9-a74a599b3ad6",
   "metadata": {},
   "outputs": [
    {
     "data": {
      "text/plain": [
       "{'comunidad_name': 'Canarias',\n",
       " 'comunidad_normalizedName': 'canarias',\n",
       " 'normalizedName': 'arafo',\n",
       " 'name': 'Arafo',\n",
       " 'provincia_name': 'Santa Cruz de Tenerife',\n",
       " 'comunidad_id': 5.0,\n",
       " 'provincia_normalizedName': 'santa-cruz-de-tenerife',\n",
       " 'provincia_id': 38,\n",
       " 'id': 4,\n",
       " 'comunidad_id_indra': 5,\n",
       " 'layer': 'santa-cruz-de-tenerife provincias_peninsula',\n",
       " 'path': 'E:/eclipse-rtve/rtve-app-elecciones/public/multimedia/mapas/provincias/santa-cruz-de-tenerife.geojson',\n",
       " 'fid': None,\n",
       " 'comunida_id': None,\n",
       " 'Unnamed: 0': 1698.0,\n",
       " 'Nombre de Comunidad': 'Canarias                      ',\n",
       " 'Código de Provincia': 38.0,\n",
       " 'Nombre de Provincia': 'Santa Cruz De Tenerife',\n",
       " 'Código de Municipio': 4.0,\n",
       " 'Nombre de Municipio': 'Arafo',\n",
       " 'Población': 5562.0,\n",
       " 'Número de mesas': 9.0,\n",
       " 'Total censo electoral': 4536.0,\n",
       " 'Total votantes': 2914.0,\n",
       " 'Votos válidos': 2887.0,\n",
       " 'Votos a candidaturas': 2859.0,\n",
       " 'Votos en blanco': 28.0,\n",
       " 'Votos nulos': 27.0,\n",
       " 'PSOE': 907.0,\n",
       " 'PP': 498.0,\n",
       " 'VOX': 353.0,\n",
       " 'PODEMOS-IU': 427.0,\n",
       " 'ERC-SOBIRANISTES': 0.0,\n",
       " 'CS': 134.0,\n",
       " 'JXCAT-JUNTS': 0.0,\n",
       " 'ECP-GUANYEM EL CANVI': 0.0,\n",
       " 'EAJ-PNV': 0.0,\n",
       " 'EH BILDU': 0.0,\n",
       " 'MÁS PAÍS-EQUO': 39.0,\n",
       " 'CUP-PR': 0.0,\n",
       " 'PODEMOS-EU': 0.0,\n",
       " 'CCA-PNC-NC': 437.0,\n",
       " 'NA+': 0.0,\n",
       " 'MÉS COMPROMÍS': 0.0,\n",
       " 'BNG': 0.0,\n",
       " 'PRC': 0.0,\n",
       " '¡TERUEL EXISTE!': 0.0,\n",
       " 'PACMA': 41.0,\n",
       " 'MÁS PAÍS': 0.0,\n",
       " 'RECORTES CERO-GV': 2.0,\n",
       " 'PUM+J': 1.0,\n",
       " 'M PAÍS-CHA-EQUO': 0.0,\n",
       " 'MÉS-ESQUERRA': 0.0,\n",
       " 'AXSÍ': 0.0,\n",
       " 'PCPE': 4.0,\n",
       " 'PCTE': 0.0,\n",
       " 'GBAI': 0.0,\n",
       " 'UPL': 0.0,\n",
       " 'PCOE': 0.0,\n",
       " 'CPM': 0.0,\n",
       " 'EB': 1.0,\n",
       " 'ERPV': 0.0,\n",
       " 'XAV': 0.0,\n",
       " 'AVANT ADELANTE LOS VERDES': 0.0,\n",
       " 'VERDES': 7.0,\n",
       " 'PH': 0.0,\n",
       " 'I.FEM': 0.0,\n",
       " 'UIG-SOM-CUIDES': 0.0,\n",
       " 'SOMOS REGIÓN': 0.0,\n",
       " 'IZQP': 0.0,\n",
       " 'AHORA CANARIAS': 4.0,\n",
       " 'CONTIGO': 4.0,\n",
       " 'CHA': 0.0,\n",
       " 'PPSO': 0.0,\n",
       " 'EXTREMADURA UNIDA': 0.0,\n",
       " 'PDSJE': 0.0,\n",
       " 'P-LIB': 0.0,\n",
       " 'MAS': 0.0,\n",
       " 'UNIDOS SÍ-ACPS-DEF': 0.0,\n",
       " 'PREPAL': 0.0,\n",
       " 'ANDECHA': 0.0,\n",
       " 'MDYC': 0.0,\n",
       " 'PYLN': 0.0,\n",
       " 'FE DE LAS JONS': 0.0,\n",
       " 'AUNACV': 0.0,\n",
       " 'UNIÓN REGIONALISTA': 0.0,\n",
       " 'CANDA': 0.0,\n",
       " 'FIA': 0.0,\n",
       " 'SOLIDARIA': 0.0,\n",
       " 'RISA': 0.0,\n",
       " 'CENTRADOS': 0.0,\n",
       " 'DPL': 0.0,\n",
       " 'IZAR': 0.0,\n",
       " 'C 21': 0.0,\n",
       " 'UDT': 0.0,\n",
       " 'Popular': 'PSOE',\n",
       " 'Popular votos': 907.0,\n",
       " 'Nombre Normalizado': 'arafo'}"
      ]
     },
     "execution_count": 30,
     "metadata": {},
     "output_type": "execute_result"
    }
   ],
   "source": [
    "test_json[37]"
   ]
  },
  {
   "cell_type": "code",
   "execution_count": null,
   "id": "9a7cea8c-fd75-4865-b2f1-86dffed3c378",
   "metadata": {},
   "outputs": [],
   "source": []
  }
 ],
 "metadata": {
  "kernelspec": {
   "display_name": "Python 3 (ipykernel)",
   "language": "python",
   "name": "python3"
  },
  "language_info": {
   "codemirror_mode": {
    "name": "ipython",
    "version": 3
   },
   "file_extension": ".py",
   "mimetype": "text/x-python",
   "name": "python",
   "nbconvert_exporter": "python",
   "pygments_lexer": "ipython3",
   "version": "3.10.2"
  }
 },
 "nbformat": 4,
 "nbformat_minor": 5
}
